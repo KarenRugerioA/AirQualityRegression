{
  "cells": [
    {
      "cell_type": "markdown",
      "metadata": {
        "id": "Qo2odCMr-lSj"
      },
      "source": [
        "##Author \n",
        "****\n",
        "Karen Rugerio Armenta"
      ]
    },
    {
      "cell_type": "markdown",
      "metadata": {
        "id": "lnsJFTRa-3Kp"
      },
      "source": [
        "## Business case\n",
        "****\n",
        "\n",
        "Predict US air quality data metrics based on the data obtained from 2017 to 2021. \n",
        "\n",
        "- Obtained from Kaggle: https://www.kaggle.com/datasets/yellowj4acket/air-quality. \n",
        "\n",
        "- Credits to https://www.epa.gov/"
      ]
    },
    {
      "cell_type": "markdown",
      "metadata": {
        "id": "lnx_8lCD-5PJ"
      },
      "source": [
        "## Case Description\n",
        "****\n",
        "Use MLlib for regression model with a database that is characterized by a large volume of data.\n",
        "\n",
        "Evaluate the generated model with the PySpark tools.\n",
        "\n",
        "Test the model on a set of data and make some predictions.\n",
        "\n"
      ]
    },
    {
      "cell_type": "markdown",
      "metadata": {
        "id": "bkgRfwMv_7-b"
      },
      "source": [
        "#Import Libraries"
      ]
    },
    {
      "cell_type": "code",
      "execution_count": null,
      "metadata": {
        "colab": {
          "base_uri": "https://localhost:8080/"
        },
        "id": "xn7cp4ojOsut",
        "outputId": "598e7580-d57e-484d-e3f9-3ba38e5eff96"
      },
      "outputs": [
        {
          "name": "stdout",
          "output_type": "stream",
          "text": [
            "\u001b[33m\r0% [Working]\u001b[0m\r            \rGet:1 http://security.ubuntu.com/ubuntu bionic-security InRelease [88.7 kB]\n",
            "Hit:2 https://cloud.r-project.org/bin/linux/ubuntu bionic-cran40/ InRelease\n",
            "Ign:3 https://developer.download.nvidia.com/compute/machine-learning/repos/ubuntu1804/x86_64  InRelease\n",
            "Hit:4 https://developer.download.nvidia.com/compute/cuda/repos/ubuntu1804/x86_64  InRelease\n",
            "Hit:5 https://developer.download.nvidia.com/compute/machine-learning/repos/ubuntu1804/x86_64  Release\n",
            "Hit:6 http://archive.ubuntu.com/ubuntu bionic InRelease\n",
            "Hit:7 http://ppa.launchpad.net/c2d4u.team/c2d4u4.0+/ubuntu bionic InRelease\n",
            "Get:8 http://archive.ubuntu.com/ubuntu bionic-updates InRelease [88.7 kB]\n",
            "Hit:9 http://ppa.launchpad.net/cran/libgit2/ubuntu bionic InRelease\n",
            "Hit:11 http://ppa.launchpad.net/deadsnakes/ppa/ubuntu bionic InRelease\n",
            "Get:12 http://archive.ubuntu.com/ubuntu bionic-backports InRelease [83.3 kB]\n",
            "Hit:13 http://ppa.launchpad.net/graphics-drivers/ppa/ubuntu bionic InRelease\n",
            "Get:14 http://archive.ubuntu.com/ubuntu bionic-updates/main amd64 Packages [3,472 kB]\n",
            "Fetched 3,733 kB in 2s (2,052 kB/s)\n",
            "Reading package lists... Done\n",
            "Building dependency tree       \n",
            "Reading state information... Done\n",
            "22 packages can be upgraded. Run 'apt list --upgradable' to see them.\n"
          ]
        }
      ],
      "source": [
        "#Update so we can work with Spark\n",
        "!sudo apt update"
      ]
    },
    {
      "cell_type": "code",
      "execution_count": null,
      "metadata": {
        "colab": {
          "base_uri": "https://localhost:8080/"
        },
        "id": "9ArxKPg7RLZE",
        "outputId": "9aaefbe2-cabb-4c78-fb44-0f783433e629"
      },
      "outputs": [
        {
          "name": "stdout",
          "output_type": "stream",
          "text": [
            "Looking in indexes: https://pypi.org/simple, https://us-python.pkg.dev/colab-wheels/public/simple/\n",
            "Requirement already satisfied: pyspark in /usr/local/lib/python3.7/dist-packages (3.3.1)\n",
            "Requirement already satisfied: py4j==0.10.9.5 in /usr/local/lib/python3.7/dist-packages (from pyspark) (0.10.9.5)\n"
          ]
        }
      ],
      "source": [
        "!apt-get install openjdk-8-jdk-headless -qq > /dev/null\n",
        "!wget -q https://downloads.apache.org/spark/spark-3.2.2//spark-3.2.2-bin-hadoop3.2.tgz\n",
        "!tar xf spark-3.2.2-bin-hadoop3.2.tgz\n",
        "#Configurating Spark with Python\n",
        "!pip install -q findspark\n",
        "!pip install pyspark\n",
        "\n",
        "#Setting environment variables\n",
        "import os\n",
        "os.environ[\"JAVA_HOME\"] = \"/usr/lib/jvm/java-8-openjdk-amd64\"\n",
        "os.environ[\"SPARK_HOME\"] = \"/content/spark-3.2.2-bin-hadoop3.2\"\n",
        "\n",
        "#Installing Spark\n",
        "import findspark\n",
        "findspark.init()\n",
        "findspark.find()\n",
        "\n",
        "#PySpark Imports\n",
        "from pyspark.sql import DataFrame, SparkSession\n",
        "from pyspark.sql import SparkSession\n",
        "from pyspark.sql.functions import col\n",
        "from pyspark.ml.feature import StringIndexer\n",
        "from pyspark.ml.feature import VectorAssembler\n",
        "from typing import List\n",
        "import pyspark.sql.types as T\n",
        "import pyspark.sql.functions as F\n",
        "\n",
        "#For linear regression\n",
        "from pyspark.ml.regression import LinearRegression\n",
        "\n",
        "#Numpy\n",
        "import numpy as np"
      ]
    },
    {
      "cell_type": "markdown",
      "metadata": {
        "id": "x-xH6qyzAE75"
      },
      "source": [
        "#Create Pyspark Session"
      ]
    },
    {
      "cell_type": "markdown",
      "metadata": {
        "id": "Pxc5RB09AKgN"
      },
      "source": [
        "**We create a Pyspark Session so we can interact with different spark's functionality with a less number of constructs. This means that instead of having a spark context, SQL context, etc. all of it is encapsulated in a Spark session. We will call it PySpark_portafolio.**"
      ]
    },
    {
      "cell_type": "code",
      "execution_count": 211,
      "metadata": {
        "colab": {
          "base_uri": "https://localhost:8080/",
          "height": 221
        },
        "id": "fQlCkGV2TSnN",
        "outputId": "9a1f139a-8437-405c-e860-02d8347248e4"
      },
      "outputs": [
        {
          "data": {
            "text/html": [
              "\n",
              "            <div>\n",
              "                <p><b>SparkSession - in-memory</b></p>\n",
              "                \n",
              "        <div>\n",
              "            <p><b>SparkContext</b></p>\n",
              "\n",
              "            <p><a href=\"http://8aaf5f1f8145:4040\">Spark UI</a></p>\n",
              "\n",
              "            <dl>\n",
              "              <dt>Version</dt>\n",
              "                <dd><code>v3.2.2</code></dd>\n",
              "              <dt>Master</dt>\n",
              "                <dd><code>local[*]</code></dd>\n",
              "              <dt>AppName</dt>\n",
              "                <dd><code>PySpark_portafolio</code></dd>\n",
              "            </dl>\n",
              "        </div>\n",
              "        \n",
              "            </div>\n",
              "        "
            ],
            "text/plain": [
              "<pyspark.sql.session.SparkSession at 0x7f4e45e5ff90>"
            ]
          },
          "execution_count": 211,
          "metadata": {},
          "output_type": "execute_result"
        }
      ],
      "source": [
        "#Creating Spark Session\n",
        "spark_session = SparkSession.builder.appName('PySpark_portafolio').getOrCreate()\n",
        "spark_session"
      ]
    },
    {
      "cell_type": "markdown",
      "metadata": {
        "id": "KkEGMa-jGS9i"
      },
      "source": [
        "#ETL Process"
      ]
    },
    {
      "cell_type": "markdown",
      "metadata": {
        "id": "PwiQy2S-AmrY"
      },
      "source": [
        "**The next step is importing the dataset into the session, so we can perform an etl process for a better model prediction.**"
      ]
    },
    {
      "cell_type": "code",
      "execution_count": 212,
      "metadata": {
        "colab": {
          "base_uri": "https://localhost:8080/"
        },
        "id": "qQQHNZ6JThux",
        "outputId": "2fd4aa32-fc9e-43d2-f526-00a828d01fef"
      },
      "outputs": [
        {
          "data": {
            "text/plain": [
              "DataFrame[_c0: int, state_code: int, county_code: int, site_number: int, latitude: double, longitude: double, parameter: string, sample_duration: string, pollutant_standard: string, date_local: string, units_of_measure: string, event_type: string, observation_count: int, observation_percent: double, validity_indicator: string, arithmetic_mean: double, first_max_value: double, first_max_hour: int, aqi: double, method: string, local_site_name: string, site_address: string, state: string, county: string, city: string, date_of_last_change: string, year: int]"
            ]
          },
          "execution_count": 212,
          "metadata": {},
          "output_type": "execute_result"
        }
      ],
      "source": [
        "#Reading dataset in Spark Session\n",
        "df  = spark_session.read.csv('aqi_data_17_21.csv', header = True, inferSchema=True)\n",
        "df"
      ]
    },
    {
      "cell_type": "markdown",
      "metadata": {
        "id": "pgVEFTxwBEHd"
      },
      "source": [
        "**With the following command we visualize the data, it shows only the 20 first rows**"
      ]
    },
    {
      "cell_type": "code",
      "execution_count": 213,
      "metadata": {
        "colab": {
          "base_uri": "https://localhost:8080/"
        },
        "id": "NJ7A6kntTnoV",
        "outputId": "56dbb54a-4b1b-40e0-ed41-c4999cd82abb"
      },
      "outputs": [
        {
          "name": "stdout",
          "output_type": "stream",
          "text": [
            "+-------+----------+-----------+-----------+------------------+----------+--------------------+---------------+------------------+----------+--------------------+----------+-----------------+-------------------+------------------+---------------+---------------+--------------+----+--------------------+-----------------+--------------------+-------+-------+--------+-------------------+----+\n",
            "|    _c0|state_code|county_code|site_number|          latitude| longitude|           parameter|sample_duration|pollutant_standard|date_local|    units_of_measure|event_type|observation_count|observation_percent|validity_indicator|arithmetic_mean|first_max_value|first_max_hour| aqi|              method|  local_site_name|        site_address|  state| county|    city|date_of_last_change|year|\n",
            "+-------+----------+-----------+-----------+------------------+----------+--------------------+---------------+------------------+----------+--------------------+----------+-----------------+-------------------+------------------+---------------+---------------+--------------+----+--------------------+-----------------+--------------------+-------+-------+--------+-------------------+----+\n",
            "|2327539|         1|          3|         10|30.497478000000005|-87.880258|PM2.5 - Local Con...|        24 HOUR| PM25 24-hour 2006|2017-01-01|Micrograms/cubic ...|      None|                1|              100.0|                 Y|            5.0|            5.0|             0|21.0|R & P Model 2025 ...|FAIRHOPE, Alabama|FAIRHOPE HIGH SCH...|Alabama|Baldwin|Fairhope|         2018-04-30|2017|\n",
            "|2327540|         1|          3|         10|30.497478000000005|-87.880258|PM2.5 - Local Con...|        24 HOUR|  PM25 Annual 2006|2017-01-01|Micrograms/cubic ...|      None|                1|              100.0|                 Y|            5.0|            5.0|             0|21.0|R & P Model 2025 ...|FAIRHOPE, Alabama|FAIRHOPE HIGH SCH...|Alabama|Baldwin|Fairhope|         2018-04-30|2017|\n",
            "|2327541|         1|          3|         10|30.497478000000005|-87.880258|PM2.5 - Local Con...|        24 HOUR| PM25 24-hour 2012|2017-01-01|Micrograms/cubic ...|      None|                1|              100.0|                 Y|            5.0|            5.0|             0|21.0|R & P Model 2025 ...|FAIRHOPE, Alabama|FAIRHOPE HIGH SCH...|Alabama|Baldwin|Fairhope|         2018-04-30|2017|\n",
            "|2327542|         1|          3|         10|30.497478000000005|-87.880258|PM2.5 - Local Con...|        24 HOUR|  PM25 Annual 2012|2017-01-01|Micrograms/cubic ...|      None|                1|              100.0|                 Y|            5.0|            5.0|             0|21.0|R & P Model 2025 ...|FAIRHOPE, Alabama|FAIRHOPE HIGH SCH...|Alabama|Baldwin|Fairhope|         2018-04-30|2017|\n",
            "|2327543|         1|          3|         10|30.497478000000005|-87.880258|PM2.5 - Local Con...|        24 HOUR| PM25 24-hour 2006|2017-01-04|Micrograms/cubic ...|      None|                1|              100.0|                 Y|            5.3|            5.3|             0|22.0|R & P Model 2025 ...|FAIRHOPE, Alabama|FAIRHOPE HIGH SCH...|Alabama|Baldwin|Fairhope|         2018-04-30|2017|\n",
            "|2327544|         1|          3|         10|30.497478000000005|-87.880258|PM2.5 - Local Con...|        24 HOUR|  PM25 Annual 2006|2017-01-04|Micrograms/cubic ...|      None|                1|              100.0|                 Y|            5.3|            5.3|             0|22.0|R & P Model 2025 ...|FAIRHOPE, Alabama|FAIRHOPE HIGH SCH...|Alabama|Baldwin|Fairhope|         2018-04-30|2017|\n",
            "|2327545|         1|          3|         10|30.497478000000005|-87.880258|PM2.5 - Local Con...|        24 HOUR| PM25 24-hour 2012|2017-01-04|Micrograms/cubic ...|      None|                1|              100.0|                 Y|            5.3|            5.3|             0|22.0|R & P Model 2025 ...|FAIRHOPE, Alabama|FAIRHOPE HIGH SCH...|Alabama|Baldwin|Fairhope|         2018-04-30|2017|\n",
            "|2327546|         1|          3|         10|30.497478000000005|-87.880258|PM2.5 - Local Con...|        24 HOUR|  PM25 Annual 2012|2017-01-04|Micrograms/cubic ...|      None|                1|              100.0|                 Y|            5.3|            5.3|             0|22.0|R & P Model 2025 ...|FAIRHOPE, Alabama|FAIRHOPE HIGH SCH...|Alabama|Baldwin|Fairhope|         2018-04-30|2017|\n",
            "|2327547|         1|          3|         10|30.497478000000005|-87.880258|PM2.5 - Local Con...|        24 HOUR| PM25 24-hour 2006|2017-01-10|Micrograms/cubic ...|      None|                1|              100.0|                 Y|            4.5|            4.5|             0|19.0|R & P Model 2025 ...|FAIRHOPE, Alabama|FAIRHOPE HIGH SCH...|Alabama|Baldwin|Fairhope|         2018-04-30|2017|\n",
            "|2327548|         1|          3|         10|30.497478000000005|-87.880258|PM2.5 - Local Con...|        24 HOUR|  PM25 Annual 2006|2017-01-10|Micrograms/cubic ...|      None|                1|              100.0|                 Y|            4.5|            4.5|             0|19.0|R & P Model 2025 ...|FAIRHOPE, Alabama|FAIRHOPE HIGH SCH...|Alabama|Baldwin|Fairhope|         2018-04-30|2017|\n",
            "|2327549|         1|          3|         10|30.497478000000005|-87.880258|PM2.5 - Local Con...|        24 HOUR| PM25 24-hour 2012|2017-01-10|Micrograms/cubic ...|      None|                1|              100.0|                 Y|            4.5|            4.5|             0|19.0|R & P Model 2025 ...|FAIRHOPE, Alabama|FAIRHOPE HIGH SCH...|Alabama|Baldwin|Fairhope|         2018-04-30|2017|\n",
            "|2327550|         1|          3|         10|30.497478000000005|-87.880258|PM2.5 - Local Con...|        24 HOUR|  PM25 Annual 2012|2017-01-10|Micrograms/cubic ...|      None|                1|              100.0|                 Y|            4.5|            4.5|             0|19.0|R & P Model 2025 ...|FAIRHOPE, Alabama|FAIRHOPE HIGH SCH...|Alabama|Baldwin|Fairhope|         2018-04-30|2017|\n",
            "|2327551|         1|          3|         10|30.497478000000005|-87.880258|PM2.5 - Local Con...|        24 HOUR| PM25 24-hour 2006|2017-01-13|Micrograms/cubic ...|      None|                1|              100.0|                 Y|            7.2|            7.2|             0|30.0|R & P Model 2025 ...|FAIRHOPE, Alabama|FAIRHOPE HIGH SCH...|Alabama|Baldwin|Fairhope|         2018-04-30|2017|\n",
            "|2327552|         1|          3|         10|30.497478000000005|-87.880258|PM2.5 - Local Con...|        24 HOUR|  PM25 Annual 2006|2017-01-13|Micrograms/cubic ...|      None|                1|              100.0|                 Y|            7.2|            7.2|             0|30.0|R & P Model 2025 ...|FAIRHOPE, Alabama|FAIRHOPE HIGH SCH...|Alabama|Baldwin|Fairhope|         2018-04-30|2017|\n",
            "|2327553|         1|          3|         10|30.497478000000005|-87.880258|PM2.5 - Local Con...|        24 HOUR| PM25 24-hour 2012|2017-01-13|Micrograms/cubic ...|      None|                1|              100.0|                 Y|            7.2|            7.2|             0|30.0|R & P Model 2025 ...|FAIRHOPE, Alabama|FAIRHOPE HIGH SCH...|Alabama|Baldwin|Fairhope|         2018-04-30|2017|\n",
            "|2327554|         1|          3|         10|30.497478000000005|-87.880258|PM2.5 - Local Con...|        24 HOUR|  PM25 Annual 2012|2017-01-13|Micrograms/cubic ...|      None|                1|              100.0|                 Y|            7.2|            7.2|             0|30.0|R & P Model 2025 ...|FAIRHOPE, Alabama|FAIRHOPE HIGH SCH...|Alabama|Baldwin|Fairhope|         2018-04-30|2017|\n",
            "|2327555|         1|          3|         10|30.497478000000005|-87.880258|PM2.5 - Local Con...|        24 HOUR| PM25 24-hour 2006|2017-01-16|Micrograms/cubic ...|      None|                1|              100.0|                 Y|            3.9|            3.9|             0|16.0|R & P Model 2025 ...|FAIRHOPE, Alabama|FAIRHOPE HIGH SCH...|Alabama|Baldwin|Fairhope|         2018-04-30|2017|\n",
            "|2327556|         1|          3|         10|30.497478000000005|-87.880258|PM2.5 - Local Con...|        24 HOUR|  PM25 Annual 2006|2017-01-16|Micrograms/cubic ...|      None|                1|              100.0|                 Y|            3.9|            3.9|             0|16.0|R & P Model 2025 ...|FAIRHOPE, Alabama|FAIRHOPE HIGH SCH...|Alabama|Baldwin|Fairhope|         2018-04-30|2017|\n",
            "|2327557|         1|          3|         10|30.497478000000005|-87.880258|PM2.5 - Local Con...|        24 HOUR| PM25 24-hour 2012|2017-01-16|Micrograms/cubic ...|      None|                1|              100.0|                 Y|            3.9|            3.9|             0|16.0|R & P Model 2025 ...|FAIRHOPE, Alabama|FAIRHOPE HIGH SCH...|Alabama|Baldwin|Fairhope|         2018-04-30|2017|\n",
            "|2327558|         1|          3|         10|30.497478000000005|-87.880258|PM2.5 - Local Con...|        24 HOUR|  PM25 Annual 2012|2017-01-16|Micrograms/cubic ...|      None|                1|              100.0|                 Y|            3.9|            3.9|             0|16.0|R & P Model 2025 ...|FAIRHOPE, Alabama|FAIRHOPE HIGH SCH...|Alabama|Baldwin|Fairhope|         2018-04-30|2017|\n",
            "+-------+----------+-----------+-----------+------------------+----------+--------------------+---------------+------------------+----------+--------------------+----------+-----------------+-------------------+------------------+---------------+---------------+--------------+----+--------------------+-----------------+--------------------+-------+-------+--------+-------------------+----+\n",
            "only showing top 20 rows\n",
            "\n"
          ]
        }
      ],
      "source": [
        "#Showing Dataset information\n",
        "df.show()"
      ]
    },
    {
      "cell_type": "markdown",
      "metadata": {
        "id": "wopMbfzEB4-i"
      },
      "source": [
        "**It is also important to visualize the data types, so we can perform a better transformation of the data to construct a better model**"
      ]
    },
    {
      "cell_type": "code",
      "execution_count": 214,
      "metadata": {
        "colab": {
          "base_uri": "https://localhost:8080/"
        },
        "id": "noAqKEPwT03g",
        "outputId": "6bd1b93a-9130-4330-f76c-2fb3d7a7b378"
      },
      "outputs": [
        {
          "name": "stdout",
          "output_type": "stream",
          "text": [
            "root\n",
            " |-- _c0: integer (nullable = true)\n",
            " |-- state_code: integer (nullable = true)\n",
            " |-- county_code: integer (nullable = true)\n",
            " |-- site_number: integer (nullable = true)\n",
            " |-- latitude: double (nullable = true)\n",
            " |-- longitude: double (nullable = true)\n",
            " |-- parameter: string (nullable = true)\n",
            " |-- sample_duration: string (nullable = true)\n",
            " |-- pollutant_standard: string (nullable = true)\n",
            " |-- date_local: string (nullable = true)\n",
            " |-- units_of_measure: string (nullable = true)\n",
            " |-- event_type: string (nullable = true)\n",
            " |-- observation_count: integer (nullable = true)\n",
            " |-- observation_percent: double (nullable = true)\n",
            " |-- validity_indicator: string (nullable = true)\n",
            " |-- arithmetic_mean: double (nullable = true)\n",
            " |-- first_max_value: double (nullable = true)\n",
            " |-- first_max_hour: integer (nullable = true)\n",
            " |-- aqi: double (nullable = true)\n",
            " |-- method: string (nullable = true)\n",
            " |-- local_site_name: string (nullable = true)\n",
            " |-- site_address: string (nullable = true)\n",
            " |-- state: string (nullable = true)\n",
            " |-- county: string (nullable = true)\n",
            " |-- city: string (nullable = true)\n",
            " |-- date_of_last_change: string (nullable = true)\n",
            " |-- year: integer (nullable = true)\n",
            "\n"
          ]
        }
      ],
      "source": [
        "#Dataset datatype information\n",
        "df.printSchema()"
      ]
    },
    {
      "cell_type": "markdown",
      "metadata": {
        "id": "eH3wmfA0CHzA"
      },
      "source": [
        "**With the following command we can see how much data (rows) we have in our dataset**"
      ]
    },
    {
      "cell_type": "code",
      "execution_count": 215,
      "metadata": {
        "colab": {
          "base_uri": "https://localhost:8080/"
        },
        "id": "jbxShNP1jZ7r",
        "outputId": "1d3ba782-6b8c-49ac-effd-5eacc76b025a"
      },
      "outputs": [
        {
          "data": {
            "text/plain": [
              "3976622"
            ]
          },
          "execution_count": 215,
          "metadata": {},
          "output_type": "execute_result"
        }
      ],
      "source": [
        "#Determinate the number of data has the dataset\n",
        "df.count()"
      ]
    },
    {
      "cell_type": "markdown",
      "metadata": {
        "id": "DT4zG60rCRJ3"
      },
      "source": [
        "**As part of the cleaning process, we have to drop null values. I decided to do it by filtering rows that contain \"null\" values. The reason I decided to do it this way is because the data set I choose has \"null\" string value instead of a \"null pyspark object\", therefore I can not run a na.drop() function**"
      ]
    },
    {
      "cell_type": "code",
      "execution_count": 216,
      "metadata": {
        "colab": {
          "base_uri": "https://localhost:8080/"
        },
        "id": "kAszeOfIxR_I",
        "outputId": "5585b556-a859-497c-cbd5-f1cf86d59e57"
      },
      "outputs": [
        {
          "name": "stdout",
          "output_type": "stream",
          "text": [
            "+-------+----------+-----------+-----------+------------------+----------+--------------------+---------------+------------------+----------+--------------------+----------+-----------------+-------------------+------------------+---------------+---------------+--------------+----+--------------------+-----------------+--------------------+-------+-------+--------+-------------------+----+\n",
            "|    _c0|state_code|county_code|site_number|          latitude| longitude|           parameter|sample_duration|pollutant_standard|date_local|    units_of_measure|event_type|observation_count|observation_percent|validity_indicator|arithmetic_mean|first_max_value|first_max_hour| aqi|              method|  local_site_name|        site_address|  state| county|    city|date_of_last_change|year|\n",
            "+-------+----------+-----------+-----------+------------------+----------+--------------------+---------------+------------------+----------+--------------------+----------+-----------------+-------------------+------------------+---------------+---------------+--------------+----+--------------------+-----------------+--------------------+-------+-------+--------+-------------------+----+\n",
            "|2327539|         1|          3|         10|30.497478000000005|-87.880258|PM2.5 - Local Con...|        24 HOUR| PM25 24-hour 2006|2017-01-01|Micrograms/cubic ...|      None|                1|              100.0|                 Y|            5.0|            5.0|             0|21.0|R & P Model 2025 ...|FAIRHOPE, Alabama|FAIRHOPE HIGH SCH...|Alabama|Baldwin|Fairhope|         2018-04-30|2017|\n",
            "|2327540|         1|          3|         10|30.497478000000005|-87.880258|PM2.5 - Local Con...|        24 HOUR|  PM25 Annual 2006|2017-01-01|Micrograms/cubic ...|      None|                1|              100.0|                 Y|            5.0|            5.0|             0|21.0|R & P Model 2025 ...|FAIRHOPE, Alabama|FAIRHOPE HIGH SCH...|Alabama|Baldwin|Fairhope|         2018-04-30|2017|\n",
            "|2327541|         1|          3|         10|30.497478000000005|-87.880258|PM2.5 - Local Con...|        24 HOUR| PM25 24-hour 2012|2017-01-01|Micrograms/cubic ...|      None|                1|              100.0|                 Y|            5.0|            5.0|             0|21.0|R & P Model 2025 ...|FAIRHOPE, Alabama|FAIRHOPE HIGH SCH...|Alabama|Baldwin|Fairhope|         2018-04-30|2017|\n",
            "|2327542|         1|          3|         10|30.497478000000005|-87.880258|PM2.5 - Local Con...|        24 HOUR|  PM25 Annual 2012|2017-01-01|Micrograms/cubic ...|      None|                1|              100.0|                 Y|            5.0|            5.0|             0|21.0|R & P Model 2025 ...|FAIRHOPE, Alabama|FAIRHOPE HIGH SCH...|Alabama|Baldwin|Fairhope|         2018-04-30|2017|\n",
            "|2327543|         1|          3|         10|30.497478000000005|-87.880258|PM2.5 - Local Con...|        24 HOUR| PM25 24-hour 2006|2017-01-04|Micrograms/cubic ...|      None|                1|              100.0|                 Y|            5.3|            5.3|             0|22.0|R & P Model 2025 ...|FAIRHOPE, Alabama|FAIRHOPE HIGH SCH...|Alabama|Baldwin|Fairhope|         2018-04-30|2017|\n",
            "|2327544|         1|          3|         10|30.497478000000005|-87.880258|PM2.5 - Local Con...|        24 HOUR|  PM25 Annual 2006|2017-01-04|Micrograms/cubic ...|      None|                1|              100.0|                 Y|            5.3|            5.3|             0|22.0|R & P Model 2025 ...|FAIRHOPE, Alabama|FAIRHOPE HIGH SCH...|Alabama|Baldwin|Fairhope|         2018-04-30|2017|\n",
            "|2327545|         1|          3|         10|30.497478000000005|-87.880258|PM2.5 - Local Con...|        24 HOUR| PM25 24-hour 2012|2017-01-04|Micrograms/cubic ...|      None|                1|              100.0|                 Y|            5.3|            5.3|             0|22.0|R & P Model 2025 ...|FAIRHOPE, Alabama|FAIRHOPE HIGH SCH...|Alabama|Baldwin|Fairhope|         2018-04-30|2017|\n",
            "|2327546|         1|          3|         10|30.497478000000005|-87.880258|PM2.5 - Local Con...|        24 HOUR|  PM25 Annual 2012|2017-01-04|Micrograms/cubic ...|      None|                1|              100.0|                 Y|            5.3|            5.3|             0|22.0|R & P Model 2025 ...|FAIRHOPE, Alabama|FAIRHOPE HIGH SCH...|Alabama|Baldwin|Fairhope|         2018-04-30|2017|\n",
            "|2327547|         1|          3|         10|30.497478000000005|-87.880258|PM2.5 - Local Con...|        24 HOUR| PM25 24-hour 2006|2017-01-10|Micrograms/cubic ...|      None|                1|              100.0|                 Y|            4.5|            4.5|             0|19.0|R & P Model 2025 ...|FAIRHOPE, Alabama|FAIRHOPE HIGH SCH...|Alabama|Baldwin|Fairhope|         2018-04-30|2017|\n",
            "|2327548|         1|          3|         10|30.497478000000005|-87.880258|PM2.5 - Local Con...|        24 HOUR|  PM25 Annual 2006|2017-01-10|Micrograms/cubic ...|      None|                1|              100.0|                 Y|            4.5|            4.5|             0|19.0|R & P Model 2025 ...|FAIRHOPE, Alabama|FAIRHOPE HIGH SCH...|Alabama|Baldwin|Fairhope|         2018-04-30|2017|\n",
            "|2327549|         1|          3|         10|30.497478000000005|-87.880258|PM2.5 - Local Con...|        24 HOUR| PM25 24-hour 2012|2017-01-10|Micrograms/cubic ...|      None|                1|              100.0|                 Y|            4.5|            4.5|             0|19.0|R & P Model 2025 ...|FAIRHOPE, Alabama|FAIRHOPE HIGH SCH...|Alabama|Baldwin|Fairhope|         2018-04-30|2017|\n",
            "|2327550|         1|          3|         10|30.497478000000005|-87.880258|PM2.5 - Local Con...|        24 HOUR|  PM25 Annual 2012|2017-01-10|Micrograms/cubic ...|      None|                1|              100.0|                 Y|            4.5|            4.5|             0|19.0|R & P Model 2025 ...|FAIRHOPE, Alabama|FAIRHOPE HIGH SCH...|Alabama|Baldwin|Fairhope|         2018-04-30|2017|\n",
            "|2327551|         1|          3|         10|30.497478000000005|-87.880258|PM2.5 - Local Con...|        24 HOUR| PM25 24-hour 2006|2017-01-13|Micrograms/cubic ...|      None|                1|              100.0|                 Y|            7.2|            7.2|             0|30.0|R & P Model 2025 ...|FAIRHOPE, Alabama|FAIRHOPE HIGH SCH...|Alabama|Baldwin|Fairhope|         2018-04-30|2017|\n",
            "|2327552|         1|          3|         10|30.497478000000005|-87.880258|PM2.5 - Local Con...|        24 HOUR|  PM25 Annual 2006|2017-01-13|Micrograms/cubic ...|      None|                1|              100.0|                 Y|            7.2|            7.2|             0|30.0|R & P Model 2025 ...|FAIRHOPE, Alabama|FAIRHOPE HIGH SCH...|Alabama|Baldwin|Fairhope|         2018-04-30|2017|\n",
            "|2327553|         1|          3|         10|30.497478000000005|-87.880258|PM2.5 - Local Con...|        24 HOUR| PM25 24-hour 2012|2017-01-13|Micrograms/cubic ...|      None|                1|              100.0|                 Y|            7.2|            7.2|             0|30.0|R & P Model 2025 ...|FAIRHOPE, Alabama|FAIRHOPE HIGH SCH...|Alabama|Baldwin|Fairhope|         2018-04-30|2017|\n",
            "|2327554|         1|          3|         10|30.497478000000005|-87.880258|PM2.5 - Local Con...|        24 HOUR|  PM25 Annual 2012|2017-01-13|Micrograms/cubic ...|      None|                1|              100.0|                 Y|            7.2|            7.2|             0|30.0|R & P Model 2025 ...|FAIRHOPE, Alabama|FAIRHOPE HIGH SCH...|Alabama|Baldwin|Fairhope|         2018-04-30|2017|\n",
            "|2327555|         1|          3|         10|30.497478000000005|-87.880258|PM2.5 - Local Con...|        24 HOUR| PM25 24-hour 2006|2017-01-16|Micrograms/cubic ...|      None|                1|              100.0|                 Y|            3.9|            3.9|             0|16.0|R & P Model 2025 ...|FAIRHOPE, Alabama|FAIRHOPE HIGH SCH...|Alabama|Baldwin|Fairhope|         2018-04-30|2017|\n",
            "|2327556|         1|          3|         10|30.497478000000005|-87.880258|PM2.5 - Local Con...|        24 HOUR|  PM25 Annual 2006|2017-01-16|Micrograms/cubic ...|      None|                1|              100.0|                 Y|            3.9|            3.9|             0|16.0|R & P Model 2025 ...|FAIRHOPE, Alabama|FAIRHOPE HIGH SCH...|Alabama|Baldwin|Fairhope|         2018-04-30|2017|\n",
            "|2327557|         1|          3|         10|30.497478000000005|-87.880258|PM2.5 - Local Con...|        24 HOUR| PM25 24-hour 2012|2017-01-16|Micrograms/cubic ...|      None|                1|              100.0|                 Y|            3.9|            3.9|             0|16.0|R & P Model 2025 ...|FAIRHOPE, Alabama|FAIRHOPE HIGH SCH...|Alabama|Baldwin|Fairhope|         2018-04-30|2017|\n",
            "|2327558|         1|          3|         10|30.497478000000005|-87.880258|PM2.5 - Local Con...|        24 HOUR|  PM25 Annual 2012|2017-01-16|Micrograms/cubic ...|      None|                1|              100.0|                 Y|            3.9|            3.9|             0|16.0|R & P Model 2025 ...|FAIRHOPE, Alabama|FAIRHOPE HIGH SCH...|Alabama|Baldwin|Fairhope|         2018-04-30|2017|\n",
            "+-------+----------+-----------+-----------+------------------+----------+--------------------+---------------+------------------+----------+--------------------+----------+-----------------+-------------------+------------------+---------------+---------------+--------------+----+--------------------+-----------------+--------------------+-------+-------+--------+-------------------+----+\n",
            "only showing top 20 rows\n",
            "\n"
          ]
        }
      ],
      "source": [
        "#Dropping null values. \n",
        "df = df.filter(~col(\"_c0\").contains(\"null\"))\n",
        "df = df.filter(~col(\"state_code\").contains(\"null\"))\n",
        "df = df.filter(~col(\"county_code\").contains(\"null\"))\n",
        "df = df.filter(~col(\"site_number\").contains(\"null\"))\n",
        "df = df.filter(~col(\"latitude\").contains(\"null\"))\n",
        "df = df.filter(~col(\"longitude\").contains(\"null\"))\n",
        "df = df.filter(~col(\"parameter\").contains(\"null\"))\n",
        "df = df.filter(~col(\"sample_duration\").contains(\"null\"))\n",
        "df = df.filter(~col(\"pollutant_standard\").contains(\"null\"))\n",
        "df = df.filter(~col(\"date_local\").contains(\"null\"))\n",
        "df = df.filter(~col(\"units_of_measure\").contains(\"null\"))\n",
        "df = df.filter(~col(\"event_type\").contains(\"null\"))\n",
        "df = df.filter(~col(\"observation_count\").contains(\"null\"))\n",
        "df = df.filter(~col(\"validity_indicator\").contains(\"null\"))\n",
        "df = df.filter(~col(\"observation_percent\").contains(\"null\"))\n",
        "df = df.filter(~col(\"arithmetic_mean\").contains(\"null\"))\n",
        "df = df.filter(~col(\"first_max_value\").contains(\"null\"))\n",
        "df = df.filter(~col(\"first_max_hour\").contains(\"null\"))\n",
        "df = df.filter(~col(\"aqi\").contains(\"null\"))\n",
        "df = df.filter(~col(\"method\").contains(\"null\"))\n",
        "df = df.filter(~col(\"local_site_name\").contains(\"null\"))\n",
        "df = df.filter(~col(\"site_address\").contains(\"null\"))\n",
        "df = df.filter(~col(\"state\").contains(\"null\"))\n",
        "df = df.filter(~col(\"county\").contains(\"null\"))\n",
        "df = df.filter(~col(\"city\").contains(\"null\"))\n",
        "df = df.filter(~col(\"date_of_last_change\").contains(\"null\"))\n",
        "df = df.filter(~col(\"year\").contains(\"null\"))\n",
        "df.show()"
      ]
    },
    {
      "cell_type": "markdown",
      "metadata": {
        "id": "zD2f6ml0C-eu"
      },
      "source": [
        "**Now we can see how much values are left after dropping null values.**"
      ]
    },
    {
      "cell_type": "code",
      "execution_count": 217,
      "metadata": {
        "colab": {
          "base_uri": "https://localhost:8080/"
        },
        "id": "IZeMHqxExZNK",
        "outputId": "a12665df-85c8-4d7e-8153-61ab20690406"
      },
      "outputs": [
        {
          "data": {
            "text/plain": [
              "3219722"
            ]
          },
          "execution_count": 217,
          "metadata": {},
          "output_type": "execute_result"
        }
      ],
      "source": [
        "#Determinate the new nunmber of data has the dataset after dropping nulls\n",
        "df.count()"
      ]
    },
    {
      "cell_type": "markdown",
      "metadata": {
        "id": "IslzgVoEDHL2"
      },
      "source": [
        "**This dataset has 14 columns with categorical information. Therefore is important to have a way to represent this information that can help with the model. I decided to do a label encoding instead of a One Hot Encoding as there are many values a column can have.** \n",
        "\n",
        "\n",
        "**Pyspark provides an indexer tool for encoding the levels of categorical features into numeric values. LabelEncoder as it name says encode labels with a value between 0 and n-1 where n is the number of distinct labels. The way it is optimized is that if a label repeats it assigns the same value to the previously assigned.**"
      ]
    },
    {
      "cell_type": "code",
      "execution_count": 218,
      "metadata": {
        "colab": {
          "base_uri": "https://localhost:8080/"
        },
        "id": "Lp_Kp4bV9Tps",
        "outputId": "cd28c644-b67a-4035-e647-b2a8445ac0cf"
      },
      "outputs": [
        {
          "name": "stdout",
          "output_type": "stream",
          "text": [
            "+-------+----------+-----------+-----------+------------------+----------+--------------------+---------------+------------------+----------+--------------------+----------+-----------------+-------------------+------------------+---------------+---------------+--------------+----+--------------------+-----------------+--------------------+-------+-------+--------+-------------------+----+---------------+---------------------+------------------------+----------------+----------------------+----------------+------------------------+------------+---------------------+------------------+-----------+------------+----------+-------------------------+\n",
            "|    _c0|state_code|county_code|site_number|          latitude| longitude|           parameter|sample_duration|pollutant_standard|date_local|    units_of_measure|event_type|observation_count|observation_percent|validity_indicator|arithmetic_mean|first_max_value|first_max_hour| aqi|              method|  local_site_name|        site_address|  state| county|    city|date_of_last_change|year|parameter_index|sample_duration_index|pollutant_standard_index|date_local_index|units_of_measure_index|event_type_index|validity_indicator_index|method_index|local_site_name_index|site_address_index|state_index|county_index|city_index|date_of_last_change_index|\n",
            "+-------+----------+-----------+-----------+------------------+----------+--------------------+---------------+------------------+----------+--------------------+----------+-----------------+-------------------+------------------+---------------+---------------+--------------+----+--------------------+-----------------+--------------------+-------+-------+--------+-------------------+----+---------------+---------------------+------------------------+----------------+----------------------+----------------+------------------------+------------+---------------------+------------------+-----------+------------+----------+-------------------------+\n",
            "|2327539|         1|          3|         10|30.497478000000005|-87.880258|PM2.5 - Local Con...|        24 HOUR| PM25 24-hour 2006|2017-01-01|Micrograms/cubic ...|      None|                1|              100.0|                 Y|            5.0|            5.0|             0|21.0|R & P Model 2025 ...|FAIRHOPE, Alabama|FAIRHOPE HIGH SCH...|Alabama|Baldwin|Fairhope|         2018-04-30|2017|            0.0|                  1.0|                     0.0|            60.0|                   0.0|             0.0|                     0.0|         1.0|                842.0|             849.0|       37.0|       462.0|     582.0|                    112.0|\n",
            "|2327540|         1|          3|         10|30.497478000000005|-87.880258|PM2.5 - Local Con...|        24 HOUR|  PM25 Annual 2006|2017-01-01|Micrograms/cubic ...|      None|                1|              100.0|                 Y|            5.0|            5.0|             0|21.0|R & P Model 2025 ...|FAIRHOPE, Alabama|FAIRHOPE HIGH SCH...|Alabama|Baldwin|Fairhope|         2018-04-30|2017|            0.0|                  1.0|                     2.0|            60.0|                   0.0|             0.0|                     0.0|         1.0|                842.0|             849.0|       37.0|       462.0|     582.0|                    112.0|\n",
            "|2327541|         1|          3|         10|30.497478000000005|-87.880258|PM2.5 - Local Con...|        24 HOUR| PM25 24-hour 2012|2017-01-01|Micrograms/cubic ...|      None|                1|              100.0|                 Y|            5.0|            5.0|             0|21.0|R & P Model 2025 ...|FAIRHOPE, Alabama|FAIRHOPE HIGH SCH...|Alabama|Baldwin|Fairhope|         2018-04-30|2017|            0.0|                  1.0|                     1.0|            60.0|                   0.0|             0.0|                     0.0|         1.0|                842.0|             849.0|       37.0|       462.0|     582.0|                    112.0|\n",
            "|2327542|         1|          3|         10|30.497478000000005|-87.880258|PM2.5 - Local Con...|        24 HOUR|  PM25 Annual 2012|2017-01-01|Micrograms/cubic ...|      None|                1|              100.0|                 Y|            5.0|            5.0|             0|21.0|R & P Model 2025 ...|FAIRHOPE, Alabama|FAIRHOPE HIGH SCH...|Alabama|Baldwin|Fairhope|         2018-04-30|2017|            0.0|                  1.0|                     3.0|            60.0|                   0.0|             0.0|                     0.0|         1.0|                842.0|             849.0|       37.0|       462.0|     582.0|                    112.0|\n",
            "|2327543|         1|          3|         10|30.497478000000005|-87.880258|PM2.5 - Local Con...|        24 HOUR| PM25 24-hour 2006|2017-01-04|Micrograms/cubic ...|      None|                1|              100.0|                 Y|            5.3|            5.3|             0|22.0|R & P Model 2025 ...|FAIRHOPE, Alabama|FAIRHOPE HIGH SCH...|Alabama|Baldwin|Fairhope|         2018-04-30|2017|            0.0|                  1.0|                     0.0|           245.0|                   0.0|             0.0|                     0.0|         1.0|                842.0|             849.0|       37.0|       462.0|     582.0|                    112.0|\n",
            "|2327544|         1|          3|         10|30.497478000000005|-87.880258|PM2.5 - Local Con...|        24 HOUR|  PM25 Annual 2006|2017-01-04|Micrograms/cubic ...|      None|                1|              100.0|                 Y|            5.3|            5.3|             0|22.0|R & P Model 2025 ...|FAIRHOPE, Alabama|FAIRHOPE HIGH SCH...|Alabama|Baldwin|Fairhope|         2018-04-30|2017|            0.0|                  1.0|                     2.0|           245.0|                   0.0|             0.0|                     0.0|         1.0|                842.0|             849.0|       37.0|       462.0|     582.0|                    112.0|\n",
            "|2327545|         1|          3|         10|30.497478000000005|-87.880258|PM2.5 - Local Con...|        24 HOUR| PM25 24-hour 2012|2017-01-04|Micrograms/cubic ...|      None|                1|              100.0|                 Y|            5.3|            5.3|             0|22.0|R & P Model 2025 ...|FAIRHOPE, Alabama|FAIRHOPE HIGH SCH...|Alabama|Baldwin|Fairhope|         2018-04-30|2017|            0.0|                  1.0|                     1.0|           245.0|                   0.0|             0.0|                     0.0|         1.0|                842.0|             849.0|       37.0|       462.0|     582.0|                    112.0|\n",
            "|2327546|         1|          3|         10|30.497478000000005|-87.880258|PM2.5 - Local Con...|        24 HOUR|  PM25 Annual 2012|2017-01-04|Micrograms/cubic ...|      None|                1|              100.0|                 Y|            5.3|            5.3|             0|22.0|R & P Model 2025 ...|FAIRHOPE, Alabama|FAIRHOPE HIGH SCH...|Alabama|Baldwin|Fairhope|         2018-04-30|2017|            0.0|                  1.0|                     3.0|           245.0|                   0.0|             0.0|                     0.0|         1.0|                842.0|             849.0|       37.0|       462.0|     582.0|                    112.0|\n",
            "|2327547|         1|          3|         10|30.497478000000005|-87.880258|PM2.5 - Local Con...|        24 HOUR| PM25 24-hour 2006|2017-01-10|Micrograms/cubic ...|      None|                1|              100.0|                 Y|            4.5|            4.5|             0|19.0|R & P Model 2025 ...|FAIRHOPE, Alabama|FAIRHOPE HIGH SCH...|Alabama|Baldwin|Fairhope|         2018-04-30|2017|            0.0|                  1.0|                     0.0|           273.0|                   0.0|             0.0|                     0.0|         1.0|                842.0|             849.0|       37.0|       462.0|     582.0|                    112.0|\n",
            "|2327548|         1|          3|         10|30.497478000000005|-87.880258|PM2.5 - Local Con...|        24 HOUR|  PM25 Annual 2006|2017-01-10|Micrograms/cubic ...|      None|                1|              100.0|                 Y|            4.5|            4.5|             0|19.0|R & P Model 2025 ...|FAIRHOPE, Alabama|FAIRHOPE HIGH SCH...|Alabama|Baldwin|Fairhope|         2018-04-30|2017|            0.0|                  1.0|                     2.0|           273.0|                   0.0|             0.0|                     0.0|         1.0|                842.0|             849.0|       37.0|       462.0|     582.0|                    112.0|\n",
            "|2327549|         1|          3|         10|30.497478000000005|-87.880258|PM2.5 - Local Con...|        24 HOUR| PM25 24-hour 2012|2017-01-10|Micrograms/cubic ...|      None|                1|              100.0|                 Y|            4.5|            4.5|             0|19.0|R & P Model 2025 ...|FAIRHOPE, Alabama|FAIRHOPE HIGH SCH...|Alabama|Baldwin|Fairhope|         2018-04-30|2017|            0.0|                  1.0|                     1.0|           273.0|                   0.0|             0.0|                     0.0|         1.0|                842.0|             849.0|       37.0|       462.0|     582.0|                    112.0|\n",
            "|2327550|         1|          3|         10|30.497478000000005|-87.880258|PM2.5 - Local Con...|        24 HOUR|  PM25 Annual 2012|2017-01-10|Micrograms/cubic ...|      None|                1|              100.0|                 Y|            4.5|            4.5|             0|19.0|R & P Model 2025 ...|FAIRHOPE, Alabama|FAIRHOPE HIGH SCH...|Alabama|Baldwin|Fairhope|         2018-04-30|2017|            0.0|                  1.0|                     3.0|           273.0|                   0.0|             0.0|                     0.0|         1.0|                842.0|             849.0|       37.0|       462.0|     582.0|                    112.0|\n",
            "|2327551|         1|          3|         10|30.497478000000005|-87.880258|PM2.5 - Local Con...|        24 HOUR| PM25 24-hour 2006|2017-01-13|Micrograms/cubic ...|      None|                1|              100.0|                 Y|            7.2|            7.2|             0|30.0|R & P Model 2025 ...|FAIRHOPE, Alabama|FAIRHOPE HIGH SCH...|Alabama|Baldwin|Fairhope|         2018-04-30|2017|            0.0|                  1.0|                     0.0|            75.0|                   0.0|             0.0|                     0.0|         1.0|                842.0|             849.0|       37.0|       462.0|     582.0|                    112.0|\n",
            "|2327552|         1|          3|         10|30.497478000000005|-87.880258|PM2.5 - Local Con...|        24 HOUR|  PM25 Annual 2006|2017-01-13|Micrograms/cubic ...|      None|                1|              100.0|                 Y|            7.2|            7.2|             0|30.0|R & P Model 2025 ...|FAIRHOPE, Alabama|FAIRHOPE HIGH SCH...|Alabama|Baldwin|Fairhope|         2018-04-30|2017|            0.0|                  1.0|                     2.0|            75.0|                   0.0|             0.0|                     0.0|         1.0|                842.0|             849.0|       37.0|       462.0|     582.0|                    112.0|\n",
            "|2327553|         1|          3|         10|30.497478000000005|-87.880258|PM2.5 - Local Con...|        24 HOUR| PM25 24-hour 2012|2017-01-13|Micrograms/cubic ...|      None|                1|              100.0|                 Y|            7.2|            7.2|             0|30.0|R & P Model 2025 ...|FAIRHOPE, Alabama|FAIRHOPE HIGH SCH...|Alabama|Baldwin|Fairhope|         2018-04-30|2017|            0.0|                  1.0|                     1.0|            75.0|                   0.0|             0.0|                     0.0|         1.0|                842.0|             849.0|       37.0|       462.0|     582.0|                    112.0|\n",
            "|2327554|         1|          3|         10|30.497478000000005|-87.880258|PM2.5 - Local Con...|        24 HOUR|  PM25 Annual 2012|2017-01-13|Micrograms/cubic ...|      None|                1|              100.0|                 Y|            7.2|            7.2|             0|30.0|R & P Model 2025 ...|FAIRHOPE, Alabama|FAIRHOPE HIGH SCH...|Alabama|Baldwin|Fairhope|         2018-04-30|2017|            0.0|                  1.0|                     3.0|            75.0|                   0.0|             0.0|                     0.0|         1.0|                842.0|             849.0|       37.0|       462.0|     582.0|                    112.0|\n",
            "|2327555|         1|          3|         10|30.497478000000005|-87.880258|PM2.5 - Local Con...|        24 HOUR| PM25 24-hour 2006|2017-01-16|Micrograms/cubic ...|      None|                1|              100.0|                 Y|            3.9|            3.9|             0|16.0|R & P Model 2025 ...|FAIRHOPE, Alabama|FAIRHOPE HIGH SCH...|Alabama|Baldwin|Fairhope|         2018-04-30|2017|            0.0|                  1.0|                     0.0|           242.0|                   0.0|             0.0|                     0.0|         1.0|                842.0|             849.0|       37.0|       462.0|     582.0|                    112.0|\n",
            "|2327556|         1|          3|         10|30.497478000000005|-87.880258|PM2.5 - Local Con...|        24 HOUR|  PM25 Annual 2006|2017-01-16|Micrograms/cubic ...|      None|                1|              100.0|                 Y|            3.9|            3.9|             0|16.0|R & P Model 2025 ...|FAIRHOPE, Alabama|FAIRHOPE HIGH SCH...|Alabama|Baldwin|Fairhope|         2018-04-30|2017|            0.0|                  1.0|                     2.0|           242.0|                   0.0|             0.0|                     0.0|         1.0|                842.0|             849.0|       37.0|       462.0|     582.0|                    112.0|\n",
            "|2327557|         1|          3|         10|30.497478000000005|-87.880258|PM2.5 - Local Con...|        24 HOUR| PM25 24-hour 2012|2017-01-16|Micrograms/cubic ...|      None|                1|              100.0|                 Y|            3.9|            3.9|             0|16.0|R & P Model 2025 ...|FAIRHOPE, Alabama|FAIRHOPE HIGH SCH...|Alabama|Baldwin|Fairhope|         2018-04-30|2017|            0.0|                  1.0|                     1.0|           242.0|                   0.0|             0.0|                     0.0|         1.0|                842.0|             849.0|       37.0|       462.0|     582.0|                    112.0|\n",
            "|2327558|         1|          3|         10|30.497478000000005|-87.880258|PM2.5 - Local Con...|        24 HOUR|  PM25 Annual 2012|2017-01-16|Micrograms/cubic ...|      None|                1|              100.0|                 Y|            3.9|            3.9|             0|16.0|R & P Model 2025 ...|FAIRHOPE, Alabama|FAIRHOPE HIGH SCH...|Alabama|Baldwin|Fairhope|         2018-04-30|2017|            0.0|                  1.0|                     3.0|           242.0|                   0.0|             0.0|                     0.0|         1.0|                842.0|             849.0|       37.0|       462.0|     582.0|                    112.0|\n",
            "+-------+----------+-----------+-----------+------------------+----------+--------------------+---------------+------------------+----------+--------------------+----------+-----------------+-------------------+------------------+---------------+---------------+--------------+----+--------------------+-----------------+--------------------+-------+-------+--------+-------------------+----+---------------+---------------------+------------------------+----------------+----------------------+----------------+------------------------+------------+---------------------+------------------+-----------+------------+----------+-------------------------+\n",
            "only showing top 20 rows\n",
            "\n"
          ]
        }
      ],
      "source": [
        "#Label Encoding\n",
        "indexer_parameter = StringIndexer(inputCol=\"parameter\", outputCol=\"parameter_index\") \n",
        "df = indexer_parameter.fit(df).transform(df)\n",
        "indexer_sample_duration= StringIndexer(inputCol=\"sample_duration\", outputCol=\"sample_duration_index\") \n",
        "df = indexer_sample_duration.fit(df).transform(df) \n",
        "indexer_pollutant_standard= StringIndexer(inputCol=\"pollutant_standard\", outputCol=\"pollutant_standard_index\") \n",
        "df = indexer_pollutant_standard.fit(df).transform(df) \n",
        "indexer_date_local= StringIndexer(inputCol=\"date_local\", outputCol=\"date_local_index\") \n",
        "df = indexer_date_local.fit(df).transform(df) \n",
        "indexer_units_of_measure= StringIndexer(inputCol=\"units_of_measure\", outputCol=\"units_of_measure_index\") \n",
        "df = indexer_units_of_measure.fit(df).transform(df) \n",
        "indexer_event_type= StringIndexer(inputCol=\"event_type\", outputCol=\"event_type_index\") \n",
        "df = indexer_event_type.fit(df).transform(df) \n",
        "indexer_validity_indicator= StringIndexer(inputCol=\"validity_indicator\", outputCol=\"validity_indicator_index\") \n",
        "df = indexer_validity_indicator.fit(df).transform(df) \n",
        "indexer_method= StringIndexer(inputCol=\"method\", outputCol=\"method_index\") \n",
        "df = indexer_method.fit(df).transform(df) \n",
        "indexer_local_site_name= StringIndexer(inputCol=\"local_site_name\", outputCol=\"local_site_name_index\") \n",
        "df = indexer_local_site_name.fit(df).transform(df) \n",
        "indexer_site_address= StringIndexer(inputCol=\"site_address\", outputCol=\"site_address_index\") \n",
        "df = indexer_site_address.fit(df).transform(df) \n",
        "indexer_state= StringIndexer(inputCol=\"state\", outputCol=\"state_index\") \n",
        "df = indexer_state.fit(df).transform(df) \n",
        "indexer_country= StringIndexer(inputCol=\"county\", outputCol=\"county_index\") \n",
        "df = indexer_country.fit(df).transform(df) \n",
        "indexer_city= StringIndexer(inputCol=\"city\", outputCol=\"city_index\") \n",
        "df = indexer_city.fit(df).transform(df) \n",
        "indexer_date_of_last_change= StringIndexer(inputCol=\"date_of_last_change\", outputCol=\"date_of_last_change_index\") \n",
        "df = indexer_date_of_last_change.fit(df).transform(df) \n",
        "df.show()"
      ]
    },
    {
      "cell_type": "markdown",
      "metadata": {
        "id": "uflLS90fFe8z"
      },
      "source": [
        "**Now we are ready to drop the old categorical columns, as we have indexed ones. And drop other columns that are not that valuable for the model. This information is based on the Kaggle dataset overall analysis**"
      ]
    },
    {
      "cell_type": "code",
      "execution_count": 219,
      "metadata": {
        "id": "Z_rFRa2C_oEB"
      },
      "outputs": [],
      "source": [
        "#Dropping Categorical Columns\n",
        "df = df.drop(\"parameter\")\n",
        "df = df.drop(\"sample_duration\")\n",
        "df = df.drop(\"pollutant_standard\")\n",
        "df = df.drop(\"date_local\")\n",
        "df = df.drop(\"units_of_measure\")\n",
        "df = df.drop(\"event_type\")\n",
        "df = df.drop(\"validity_indicator\")\n",
        "df = df.drop(\"method\")\n",
        "df = df.drop(\"local_site_name\")\n",
        "df = df.drop(\"site_address\")\n",
        "df = df.drop(\"state\")\n",
        "df = df.drop(\"county\")\n",
        "df = df.drop(\"city\")\n",
        "df = df.drop(\"date_of_last_change\")\n",
        "#Deleating information after analizing the dataset\n",
        "df = df.drop(\"parameter_index\") #1 unique value\n",
        "df = df.drop(\"event_type_index\") #95% has a \"none\" string unique value\n",
        "df = df.drop(\"observation_count\") #95% has a \"1\" int value\n",
        "df = df.drop(\"observation_percent\") #95% has a \"100\" int value\n",
        "df = df.drop(\"site_address\") #has a lot of unique value\n",
        "df = df.drop(\"units_of_measure_index\") #1 unique value\n",
        "df = df.drop(\"_c0\") #ID"
      ]
    },
    {
      "cell_type": "code",
      "execution_count": 220,
      "metadata": {
        "colab": {
          "base_uri": "https://localhost:8080/"
        },
        "id": "j3f3QF6V_r-j",
        "outputId": "47200de4-f0f6-41db-bfc9-5772bcc74cdf"
      },
      "outputs": [
        {
          "name": "stdout",
          "output_type": "stream",
          "text": [
            "+----------+-----------+-----------+------------------+----------+---------------+---------------+--------------+----+----+---------------------+------------------------+----------------+------------------------+------------+---------------------+------------------+-----------+------------+----------+-------------------------+\n",
            "|state_code|county_code|site_number|          latitude| longitude|arithmetic_mean|first_max_value|first_max_hour| aqi|year|sample_duration_index|pollutant_standard_index|date_local_index|validity_indicator_index|method_index|local_site_name_index|site_address_index|state_index|county_index|city_index|date_of_last_change_index|\n",
            "+----------+-----------+-----------+------------------+----------+---------------+---------------+--------------+----+----+---------------------+------------------------+----------------+------------------------+------------+---------------------+------------------+-----------+------------+----------+-------------------------+\n",
            "|         1|          3|         10|30.497478000000005|-87.880258|            5.0|            5.0|             0|21.0|2017|                  1.0|                     0.0|            60.0|                     0.0|         1.0|                842.0|             849.0|       37.0|       462.0|     582.0|                    112.0|\n",
            "|         1|          3|         10|30.497478000000005|-87.880258|            5.0|            5.0|             0|21.0|2017|                  1.0|                     2.0|            60.0|                     0.0|         1.0|                842.0|             849.0|       37.0|       462.0|     582.0|                    112.0|\n",
            "|         1|          3|         10|30.497478000000005|-87.880258|            5.0|            5.0|             0|21.0|2017|                  1.0|                     1.0|            60.0|                     0.0|         1.0|                842.0|             849.0|       37.0|       462.0|     582.0|                    112.0|\n",
            "|         1|          3|         10|30.497478000000005|-87.880258|            5.0|            5.0|             0|21.0|2017|                  1.0|                     3.0|            60.0|                     0.0|         1.0|                842.0|             849.0|       37.0|       462.0|     582.0|                    112.0|\n",
            "|         1|          3|         10|30.497478000000005|-87.880258|            5.3|            5.3|             0|22.0|2017|                  1.0|                     0.0|           245.0|                     0.0|         1.0|                842.0|             849.0|       37.0|       462.0|     582.0|                    112.0|\n",
            "|         1|          3|         10|30.497478000000005|-87.880258|            5.3|            5.3|             0|22.0|2017|                  1.0|                     2.0|           245.0|                     0.0|         1.0|                842.0|             849.0|       37.0|       462.0|     582.0|                    112.0|\n",
            "|         1|          3|         10|30.497478000000005|-87.880258|            5.3|            5.3|             0|22.0|2017|                  1.0|                     1.0|           245.0|                     0.0|         1.0|                842.0|             849.0|       37.0|       462.0|     582.0|                    112.0|\n",
            "|         1|          3|         10|30.497478000000005|-87.880258|            5.3|            5.3|             0|22.0|2017|                  1.0|                     3.0|           245.0|                     0.0|         1.0|                842.0|             849.0|       37.0|       462.0|     582.0|                    112.0|\n",
            "|         1|          3|         10|30.497478000000005|-87.880258|            4.5|            4.5|             0|19.0|2017|                  1.0|                     0.0|           273.0|                     0.0|         1.0|                842.0|             849.0|       37.0|       462.0|     582.0|                    112.0|\n",
            "|         1|          3|         10|30.497478000000005|-87.880258|            4.5|            4.5|             0|19.0|2017|                  1.0|                     2.0|           273.0|                     0.0|         1.0|                842.0|             849.0|       37.0|       462.0|     582.0|                    112.0|\n",
            "|         1|          3|         10|30.497478000000005|-87.880258|            4.5|            4.5|             0|19.0|2017|                  1.0|                     1.0|           273.0|                     0.0|         1.0|                842.0|             849.0|       37.0|       462.0|     582.0|                    112.0|\n",
            "|         1|          3|         10|30.497478000000005|-87.880258|            4.5|            4.5|             0|19.0|2017|                  1.0|                     3.0|           273.0|                     0.0|         1.0|                842.0|             849.0|       37.0|       462.0|     582.0|                    112.0|\n",
            "|         1|          3|         10|30.497478000000005|-87.880258|            7.2|            7.2|             0|30.0|2017|                  1.0|                     0.0|            75.0|                     0.0|         1.0|                842.0|             849.0|       37.0|       462.0|     582.0|                    112.0|\n",
            "|         1|          3|         10|30.497478000000005|-87.880258|            7.2|            7.2|             0|30.0|2017|                  1.0|                     2.0|            75.0|                     0.0|         1.0|                842.0|             849.0|       37.0|       462.0|     582.0|                    112.0|\n",
            "|         1|          3|         10|30.497478000000005|-87.880258|            7.2|            7.2|             0|30.0|2017|                  1.0|                     1.0|            75.0|                     0.0|         1.0|                842.0|             849.0|       37.0|       462.0|     582.0|                    112.0|\n",
            "|         1|          3|         10|30.497478000000005|-87.880258|            7.2|            7.2|             0|30.0|2017|                  1.0|                     3.0|            75.0|                     0.0|         1.0|                842.0|             849.0|       37.0|       462.0|     582.0|                    112.0|\n",
            "|         1|          3|         10|30.497478000000005|-87.880258|            3.9|            3.9|             0|16.0|2017|                  1.0|                     0.0|           242.0|                     0.0|         1.0|                842.0|             849.0|       37.0|       462.0|     582.0|                    112.0|\n",
            "|         1|          3|         10|30.497478000000005|-87.880258|            3.9|            3.9|             0|16.0|2017|                  1.0|                     2.0|           242.0|                     0.0|         1.0|                842.0|             849.0|       37.0|       462.0|     582.0|                    112.0|\n",
            "|         1|          3|         10|30.497478000000005|-87.880258|            3.9|            3.9|             0|16.0|2017|                  1.0|                     1.0|           242.0|                     0.0|         1.0|                842.0|             849.0|       37.0|       462.0|     582.0|                    112.0|\n",
            "|         1|          3|         10|30.497478000000005|-87.880258|            3.9|            3.9|             0|16.0|2017|                  1.0|                     3.0|           242.0|                     0.0|         1.0|                842.0|             849.0|       37.0|       462.0|     582.0|                    112.0|\n",
            "+----------+-----------+-----------+------------------+----------+---------------+---------------+--------------+----+----+---------------------+------------------------+----------------+------------------------+------------+---------------------+------------------+-----------+------------+----------+-------------------------+\n",
            "only showing top 20 rows\n",
            "\n"
          ]
        }
      ],
      "source": [
        "#Visualizing the dataset\n",
        "df.show()"
      ]
    },
    {
      "cell_type": "markdown",
      "metadata": {
        "id": "T6iXJiivGPoq"
      },
      "source": [
        "#Model"
      ]
    },
    {
      "cell_type": "markdown",
      "metadata": {
        "id": "1J00qiVlGrPl"
      },
      "source": [
        "**The first thing we have to do is determinate the dependant and the independant variables.**\n",
        "\n",
        "**The independant variables in this Regression Model will be store them in a list of features, called \"Independent Features\"**"
      ]
    },
    {
      "cell_type": "code",
      "execution_count": 221,
      "metadata": {
        "colab": {
          "base_uri": "https://localhost:8080/"
        },
        "id": "d5QisBNc71_d",
        "outputId": "9f72f144-ca97-4624-9a76-27236aee1358"
      },
      "outputs": [
        {
          "data": {
            "text/plain": [
              "VectorAssembler_2b1d838e021e"
            ]
          },
          "execution_count": 221,
          "metadata": {},
          "output_type": "execute_result"
        }
      ],
      "source": [
        "#Defining independant variables\n",
        "featassembler = VectorAssembler(inputCols=['state_code',\n",
        " 'county_code',\n",
        " 'latitude',\n",
        " 'longitude',\n",
        " 'site_number',\n",
        " 'arithmetic_mean',\n",
        " 'first_max_value',\n",
        " 'first_max_hour',\n",
        " 'year',\n",
        " 'sample_duration_index',\n",
        " 'sample_duration_index',\n",
        " 'pollutant_standard_index',\n",
        " 'date_local_index',\n",
        " 'validity_indicator_index',\n",
        " 'method_index',\n",
        " 'site_address_index',\n",
        " 'state_index',\n",
        " 'county_index',\n",
        " 'city_index',\n",
        " 'date_of_last_change_index'\n",
        " ], outputCol = \"Independent Features\" )\n",
        "featassembler"
      ]
    },
    {
      "cell_type": "markdown",
      "metadata": {
        "id": "nWvgTh53HQLH"
      },
      "source": [
        "**Now we are going to make this VectorAssembler part of our dataframe, so we have all independant variables stored in a single column**"
      ]
    },
    {
      "cell_type": "code",
      "execution_count": 222,
      "metadata": {
        "colab": {
          "base_uri": "https://localhost:8080/"
        },
        "id": "OsJG8w9Z8YgL",
        "outputId": "7a3cd8d2-75e8-4e03-f857-1afad48866cc"
      },
      "outputs": [
        {
          "name": "stdout",
          "output_type": "stream",
          "text": [
            "+----------+-----------+-----------+------------------+----------+---------------+---------------+--------------+----+----+---------------------+------------------------+----------------+------------------------+------------+---------------------+------------------+-----------+------------+----------+-------------------------+--------------------+\n",
            "|state_code|county_code|site_number|          latitude| longitude|arithmetic_mean|first_max_value|first_max_hour| aqi|year|sample_duration_index|pollutant_standard_index|date_local_index|validity_indicator_index|method_index|local_site_name_index|site_address_index|state_index|county_index|city_index|date_of_last_change_index|Independent Features|\n",
            "+----------+-----------+-----------+------------------+----------+---------------+---------------+--------------+----+----+---------------------+------------------------+----------------+------------------------+------------+---------------------+------------------+-----------+------------+----------+-------------------------+--------------------+\n",
            "|         1|          3|         10|30.497478000000005|-87.880258|            5.0|            5.0|             0|21.0|2017|                  1.0|                     0.0|            60.0|                     0.0|         1.0|                842.0|             849.0|       37.0|       462.0|     582.0|                    112.0|[1.0,3.0,30.49747...|\n",
            "|         1|          3|         10|30.497478000000005|-87.880258|            5.0|            5.0|             0|21.0|2017|                  1.0|                     2.0|            60.0|                     0.0|         1.0|                842.0|             849.0|       37.0|       462.0|     582.0|                    112.0|[1.0,3.0,30.49747...|\n",
            "|         1|          3|         10|30.497478000000005|-87.880258|            5.0|            5.0|             0|21.0|2017|                  1.0|                     1.0|            60.0|                     0.0|         1.0|                842.0|             849.0|       37.0|       462.0|     582.0|                    112.0|[1.0,3.0,30.49747...|\n",
            "|         1|          3|         10|30.497478000000005|-87.880258|            5.0|            5.0|             0|21.0|2017|                  1.0|                     3.0|            60.0|                     0.0|         1.0|                842.0|             849.0|       37.0|       462.0|     582.0|                    112.0|[1.0,3.0,30.49747...|\n",
            "|         1|          3|         10|30.497478000000005|-87.880258|            5.3|            5.3|             0|22.0|2017|                  1.0|                     0.0|           245.0|                     0.0|         1.0|                842.0|             849.0|       37.0|       462.0|     582.0|                    112.0|[1.0,3.0,30.49747...|\n",
            "|         1|          3|         10|30.497478000000005|-87.880258|            5.3|            5.3|             0|22.0|2017|                  1.0|                     2.0|           245.0|                     0.0|         1.0|                842.0|             849.0|       37.0|       462.0|     582.0|                    112.0|[1.0,3.0,30.49747...|\n",
            "|         1|          3|         10|30.497478000000005|-87.880258|            5.3|            5.3|             0|22.0|2017|                  1.0|                     1.0|           245.0|                     0.0|         1.0|                842.0|             849.0|       37.0|       462.0|     582.0|                    112.0|[1.0,3.0,30.49747...|\n",
            "|         1|          3|         10|30.497478000000005|-87.880258|            5.3|            5.3|             0|22.0|2017|                  1.0|                     3.0|           245.0|                     0.0|         1.0|                842.0|             849.0|       37.0|       462.0|     582.0|                    112.0|[1.0,3.0,30.49747...|\n",
            "|         1|          3|         10|30.497478000000005|-87.880258|            4.5|            4.5|             0|19.0|2017|                  1.0|                     0.0|           273.0|                     0.0|         1.0|                842.0|             849.0|       37.0|       462.0|     582.0|                    112.0|[1.0,3.0,30.49747...|\n",
            "|         1|          3|         10|30.497478000000005|-87.880258|            4.5|            4.5|             0|19.0|2017|                  1.0|                     2.0|           273.0|                     0.0|         1.0|                842.0|             849.0|       37.0|       462.0|     582.0|                    112.0|[1.0,3.0,30.49747...|\n",
            "|         1|          3|         10|30.497478000000005|-87.880258|            4.5|            4.5|             0|19.0|2017|                  1.0|                     1.0|           273.0|                     0.0|         1.0|                842.0|             849.0|       37.0|       462.0|     582.0|                    112.0|[1.0,3.0,30.49747...|\n",
            "|         1|          3|         10|30.497478000000005|-87.880258|            4.5|            4.5|             0|19.0|2017|                  1.0|                     3.0|           273.0|                     0.0|         1.0|                842.0|             849.0|       37.0|       462.0|     582.0|                    112.0|[1.0,3.0,30.49747...|\n",
            "|         1|          3|         10|30.497478000000005|-87.880258|            7.2|            7.2|             0|30.0|2017|                  1.0|                     0.0|            75.0|                     0.0|         1.0|                842.0|             849.0|       37.0|       462.0|     582.0|                    112.0|[1.0,3.0,30.49747...|\n",
            "|         1|          3|         10|30.497478000000005|-87.880258|            7.2|            7.2|             0|30.0|2017|                  1.0|                     2.0|            75.0|                     0.0|         1.0|                842.0|             849.0|       37.0|       462.0|     582.0|                    112.0|[1.0,3.0,30.49747...|\n",
            "|         1|          3|         10|30.497478000000005|-87.880258|            7.2|            7.2|             0|30.0|2017|                  1.0|                     1.0|            75.0|                     0.0|         1.0|                842.0|             849.0|       37.0|       462.0|     582.0|                    112.0|[1.0,3.0,30.49747...|\n",
            "|         1|          3|         10|30.497478000000005|-87.880258|            7.2|            7.2|             0|30.0|2017|                  1.0|                     3.0|            75.0|                     0.0|         1.0|                842.0|             849.0|       37.0|       462.0|     582.0|                    112.0|[1.0,3.0,30.49747...|\n",
            "|         1|          3|         10|30.497478000000005|-87.880258|            3.9|            3.9|             0|16.0|2017|                  1.0|                     0.0|           242.0|                     0.0|         1.0|                842.0|             849.0|       37.0|       462.0|     582.0|                    112.0|[1.0,3.0,30.49747...|\n",
            "|         1|          3|         10|30.497478000000005|-87.880258|            3.9|            3.9|             0|16.0|2017|                  1.0|                     2.0|           242.0|                     0.0|         1.0|                842.0|             849.0|       37.0|       462.0|     582.0|                    112.0|[1.0,3.0,30.49747...|\n",
            "|         1|          3|         10|30.497478000000005|-87.880258|            3.9|            3.9|             0|16.0|2017|                  1.0|                     1.0|           242.0|                     0.0|         1.0|                842.0|             849.0|       37.0|       462.0|     582.0|                    112.0|[1.0,3.0,30.49747...|\n",
            "|         1|          3|         10|30.497478000000005|-87.880258|            3.9|            3.9|             0|16.0|2017|                  1.0|                     3.0|           242.0|                     0.0|         1.0|                842.0|             849.0|       37.0|       462.0|     582.0|                    112.0|[1.0,3.0,30.49747...|\n",
            "+----------+-----------+-----------+------------------+----------+---------------+---------------+--------------+----+----+---------------------+------------------------+----------------+------------------------+------------+---------------------+------------------+-----------+------------+----------+-------------------------+--------------------+\n",
            "only showing top 20 rows\n",
            "\n"
          ]
        }
      ],
      "source": [
        "#Add independant variables as a new column \n",
        "result = featassembler.transform(df)\n",
        "result.show()"
      ]
    },
    {
      "cell_type": "markdown",
      "metadata": {
        "id": "sSE_vS9JHhAA"
      },
      "source": [
        "**Now we make a new dataframe that includes this features column and the independant varible**"
      ]
    },
    {
      "cell_type": "code",
      "execution_count": 223,
      "metadata": {
        "colab": {
          "base_uri": "https://localhost:8080/"
        },
        "id": "Ls0zB7w_EU5G",
        "outputId": "e228f1be-1751-47c9-e616-7f0dd86b4de3"
      },
      "outputs": [
        {
          "name": "stdout",
          "output_type": "stream",
          "text": [
            "+--------------------+----+\n",
            "|Independent features| aqi|\n",
            "+--------------------+----+\n",
            "|[1.0,3.0,30.49747...|21.0|\n",
            "|[1.0,3.0,30.49747...|21.0|\n",
            "|[1.0,3.0,30.49747...|21.0|\n",
            "|[1.0,3.0,30.49747...|21.0|\n",
            "|[1.0,3.0,30.49747...|22.0|\n",
            "|[1.0,3.0,30.49747...|22.0|\n",
            "|[1.0,3.0,30.49747...|22.0|\n",
            "|[1.0,3.0,30.49747...|22.0|\n",
            "|[1.0,3.0,30.49747...|19.0|\n",
            "|[1.0,3.0,30.49747...|19.0|\n",
            "|[1.0,3.0,30.49747...|19.0|\n",
            "|[1.0,3.0,30.49747...|19.0|\n",
            "|[1.0,3.0,30.49747...|30.0|\n",
            "|[1.0,3.0,30.49747...|30.0|\n",
            "|[1.0,3.0,30.49747...|30.0|\n",
            "|[1.0,3.0,30.49747...|30.0|\n",
            "|[1.0,3.0,30.49747...|16.0|\n",
            "|[1.0,3.0,30.49747...|16.0|\n",
            "|[1.0,3.0,30.49747...|16.0|\n",
            "|[1.0,3.0,30.49747...|16.0|\n",
            "+--------------------+----+\n",
            "only showing top 20 rows\n",
            "\n"
          ]
        }
      ],
      "source": [
        "#Creating new dataframe only with the Independant features and the Air Quality values\n",
        "final_data = result.select(\"Independent features\", \"aqi\")\n",
        "final_data.show()"
      ]
    },
    {
      "cell_type": "markdown",
      "metadata": {
        "id": "lXYtbrsiMIB6"
      },
      "source": [
        "**It is important to define the data that is going to be for training the model, and the data that is going to be for testing the model.**\n",
        "\n",
        "**This data splitting is used mainly to avoid overfitting. So we split the data into two sets, the train and the test dataset. For this model I decided to use 80% of the data to train the model, and the other 20% to test it.**"
      ]
    },
    {
      "cell_type": "code",
      "execution_count": 224,
      "metadata": {
        "id": "sDAW-rZ_EZ86"
      },
      "outputs": [],
      "source": [
        "#Sppliting data into train and test with 80% of the total and 20% respectively \n",
        "train_data, test_data = final_data.randomSplit([0.80, 0.20])"
      ]
    },
    {
      "cell_type": "markdown",
      "metadata": {
        "id": "5K9YQJVMNRr9"
      },
      "source": [
        "**Now it's time to fit the model. To do so, I used the Linear Regression Pyspark API that takes two atributtes, the \"featuresCol\", these are the independant variables, and the \"labelCol\" that is the dependant variable**\n",
        "\n",
        "**Then the Linear regression fit is done with the train data**"
      ]
    },
    {
      "cell_type": "code",
      "execution_count": 225,
      "metadata": {
        "id": "HD5yWBFFLGRu"
      },
      "outputs": [],
      "source": [
        "#Fitting the model given the independent features to predict Air Quality values\n",
        "model = LinearRegression(featuresCol = 'Independent features', labelCol='aqi')\n",
        "model = model.fit(train_data)"
      ]
    },
    {
      "cell_type": "markdown",
      "metadata": {
        "id": "imVC7OA_NzyV"
      },
      "source": [
        "**At this point we have a trained model, now is time to see how good is the model performing**"
      ]
    },
    {
      "cell_type": "code",
      "execution_count": 226,
      "metadata": {
        "colab": {
          "base_uri": "https://localhost:8080/"
        },
        "id": "X9R5QgP47bSt",
        "outputId": "278d268f-cb69-4372-feb9-29c5b2976162"
      },
      "outputs": [
        {
          "data": {
            "text/plain": [
              "348.50367396202375"
            ]
          },
          "execution_count": 226,
          "metadata": {},
          "output_type": "execute_result"
        }
      ],
      "source": [
        "#Getting model intercept \n",
        "model.intercept"
      ]
    },
    {
      "cell_type": "markdown",
      "metadata": {
        "id": "TNX7yXafN9Pf"
      },
      "source": [
        "**The intercept represents the mean value of the response variable when all of the predictor variables in the model are equal to zero. In this case we have a intercept of 348.503**"
      ]
    },
    {
      "cell_type": "code",
      "execution_count": 227,
      "metadata": {
        "colab": {
          "base_uri": "https://localhost:8080/"
        },
        "id": "7lemfdg99NPi",
        "outputId": "18e3ff75-3dad-45a7-bb8e-7d78c7ce383e"
      },
      "outputs": [
        {
          "data": {
            "text/plain": [
              "DenseVector([-0.0202, 0.0044, -0.1067, 0.0446, -0.0001, 1.2899, 1.2899, -0.0466, -0.1627, 0.2498, 0.2498, -0.0026, 0.0002, 0.0, 0.0416, -0.0002, -0.0332, -0.0028, 0.0002, -0.0004])"
            ]
          },
          "execution_count": 227,
          "metadata": {},
          "output_type": "execute_result"
        }
      ],
      "source": [
        "#Getting model beta coefficients\n",
        "model.coefficients"
      ]
    },
    {
      "cell_type": "markdown",
      "metadata": {
        "id": "cass2AzPOlgX"
      },
      "source": [
        "**Getting the beta coefficients allows comparisons between independent variables to determine which has the most influence on the dependent variable. In this case we can see that B5, B6, B9 have the biggest values, therefore are the ones that influence the model the most.**\n",
        "#REVISAR"
      ]
    },
    {
      "cell_type": "code",
      "execution_count": 228,
      "metadata": {
        "colab": {
          "base_uri": "https://localhost:8080/"
        },
        "id": "rbL3rpFYLPiN",
        "outputId": "c6161481-c445-4bb7-d529-2d8d18ab9ffc"
      },
      "outputs": [
        {
          "data": {
            "text/plain": [
              "0.8616042919724056"
            ]
          },
          "execution_count": 228,
          "metadata": {},
          "output_type": "execute_result"
        }
      ],
      "source": [
        "#Getting R2 adjusted\n",
        "model.summary.r2adj"
      ]
    },
    {
      "cell_type": "markdown",
      "metadata": {
        "id": "x8HUZKDoOmF-"
      },
      "source": [
        "**The r2adj pyspark function, help us determinate the accuracy of the model. In this case we have an accuracy of 86% which is a pretty good percentage.**"
      ]
    },
    {
      "cell_type": "markdown",
      "metadata": {
        "id": "EWHPAWEwPlTH"
      },
      "source": [
        "**We have a very good model, but now is time to test it with the test dataset, to see if it is not overfitted. To do so, we will use the model.evaluate Pyspark function to make some Air Quality predictions**"
      ]
    },
    {
      "cell_type": "code",
      "execution_count": 229,
      "metadata": {
        "colab": {
          "base_uri": "https://localhost:8080/"
        },
        "id": "9hfBe_OULWiC",
        "outputId": "bc5fc357-b301-420c-e6c7-2e3b0466ca70"
      },
      "outputs": [
        {
          "name": "stderr",
          "output_type": "stream",
          "text": [
            "/content/spark-3.2.2-bin-hadoop3.2/python/pyspark/sql/context.py:127: FutureWarning: Deprecated in 3.0.0. Use SparkSession.builder.getOrCreate() instead.\n",
            "  FutureWarning\n"
          ]
        },
        {
          "name": "stdout",
          "output_type": "stream",
          "text": [
            "+--------------------+-----+-------------------+\n",
            "|Independent features|  aqi|         prediction|\n",
            "+--------------------+-----+-------------------+\n",
            "|(20,[0,1,2,3,4,5,...| 13.0| 17.091288676730642|\n",
            "|(20,[0,1,2,3,4,5,...|128.0| 130.96643009369754|\n",
            "|(20,[0,1,2,3,4,5,...| 84.0|  81.77314315809855|\n",
            "|(20,[0,1,2,3,4,5,...| 79.0|   76.4297310023012|\n",
            "|(20,[0,1,2,3,4,5,...| 98.0|  99.17836307687875|\n",
            "|(20,[0,1,2,3,4,5,...| 88.0|  87.73062027908429|\n",
            "|(20,[0,1,2,3,4,5,...| 88.0|  87.72544752796142|\n",
            "|(20,[0,1,2,3,4,5,...| 33.0|  31.65829027966396|\n",
            "|(20,[0,1,2,3,4,5,...| 33.0| 31.653117528541088|\n",
            "|(20,[0,1,2,3,4,5,...|  0.0|-1.7277932805557157|\n",
            "|(20,[0,1,2,3,4,5,...|  0.0|-0.1774921810965111|\n",
            "|(20,[0,1,2,3,4,5,...|  0.0| 1.3663656042513708|\n",
            "|(20,[0,1,2,3,4,5,...|  0.0|  7.185886484077287|\n",
            "|(20,[0,1,2,3,4,5,...|  0.0|    8.1122015427581|\n",
            "|(20,[0,1,2,3,4,5,...|  0.0|   9.10345842524572|\n",
            "|(20,[0,1,2,3,4,5,...|  0.0|   9.73202261026114|\n",
            "|(20,[0,1,2,3,4,5,...|  2.0| 10.768213130630784|\n",
            "|(20,[0,1,2,3,4,5,...|  3.0| 11.040444120516838|\n",
            "|(20,[0,1,2,3,4,5,...|  3.0| 11.344043876471517|\n",
            "|(20,[0,1,2,3,4,5,...|  4.0| 11.818646766404527|\n",
            "+--------------------+-----+-------------------+\n",
            "only showing top 20 rows\n",
            "\n"
          ]
        }
      ],
      "source": [
        "#Adding a new column to the dataset to visualize predictions\n",
        "prediction_result = model.evaluate(test_data)\n",
        "prediction_result.predictions.show()"
      ]
    },
    {
      "cell_type": "markdown",
      "metadata": {
        "id": "EJ0xGfz2P_Gl"
      },
      "source": [
        "**We can see we have a big difference between the predictions and the actual Air Quality values, but we are just seeing 20 rows out of the over 1million rows dataset. So, to get more accurate statistics we will get the error gap of the whole dataset**"
      ]
    },
    {
      "cell_type": "code",
      "execution_count": 230,
      "metadata": {
        "colab": {
          "base_uri": "https://localhost:8080/"
        },
        "id": "WAPniRYsLiQJ",
        "outputId": "e4bcdf84-026a-444f-b2a9-61c56c937557"
      },
      "outputs": [
        {
          "data": {
            "text/plain": [
              "(4.302824461807081, 49.20795522160201)"
            ]
          },
          "execution_count": 230,
          "metadata": {},
          "output_type": "execute_result"
        }
      ],
      "source": [
        "#Getting model errors\n",
        "prediction_result.meanAbsoluteError, prediction_result.meanSquaredError"
      ]
    },
    {
      "cell_type": "markdown",
      "metadata": {
        "id": "0JiLLpN9OoiF"
      },
      "source": [
        "**According with Nate Watson(2018) \"The absolute error is the absolute value of the difference between the forecasted value and the actual value. MAE tells us how big of an error we can expect from the forecast on average.\" This tells us that the average difference between the Air Quality data value and the value predicted by the model is 4.3. And the MSE is 49.20**"
      ]
    }
  ],
  "metadata": {
    "colab": {
      "collapsed_sections": [],
      "provenance": []
    },
    "kernelspec": {
      "display_name": "Python 3",
      "language": "python",
      "name": "python3"
    },
    "language_info": {
      "name": "python",
      "version": "3.10.8 (main, Oct 13 2022, 09:48:54) [Clang 13.0.0 (clang-1300.0.29.30)]"
    },
    "vscode": {
      "interpreter": {
        "hash": "b0fa6594d8f4cbf19f97940f81e996739fb7646882a419484c72d19e05852a7e"
      }
    }
  },
  "nbformat": 4,
  "nbformat_minor": 0
}
