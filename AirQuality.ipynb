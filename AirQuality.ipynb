{
  "nbformat": 4,
  "nbformat_minor": 0,
  "metadata": {
    "colab": {
      "provenance": []
    },
    "kernelspec": {
      "name": "python3",
      "display_name": "Python 3"
    },
    "language_info": {
      "name": "python"
    },
    "accelerator": "GPU",
    "gpuClass": "standard"
  },
  "cells": [
    {
      "cell_type": "markdown",
      "source": [
        "##Author \n",
        "****\n",
        "Karen Rugerio Armenta"
      ],
      "metadata": {
        "id": "Qo2odCMr-lSj"
      }
    },
    {
      "cell_type": "markdown",
      "source": [
        "## Business case\n",
        "****\n",
        "\n",
        "Predict US air quality data metrics based on the data obtained from 2017 to 2021. \n",
        "\n",
        "- Obtained from Kaggle: https://www.kaggle.com/datasets/yellowj4acket/air-quality. \n",
        "\n",
        "- Credits to https://www.epa.gov/"
      ],
      "metadata": {
        "id": "lnsJFTRa-3Kp"
      }
    },
    {
      "cell_type": "markdown",
      "source": [
        "## Case Description\n",
        "****\n",
        "Use MLlib for regression model with a database that is characterized by a large volume of data.\n",
        "\n",
        "Evaluate the generated model with the PySpark tools.\n",
        "\n",
        "Test the model on a set of data and make some predictions.\n",
        "\n"
      ],
      "metadata": {
        "id": "lnx_8lCD-5PJ"
      }
    },
    {
      "cell_type": "markdown",
      "source": [
        "#Import Libraries"
      ],
      "metadata": {
        "id": "bkgRfwMv_7-b"
      }
    },
    {
      "cell_type": "code",
      "source": [
        "#Update so we can work with Spark\n",
        "!sudo apt update"
      ],
      "metadata": {
        "colab": {
          "base_uri": "https://localhost:8080/"
        },
        "id": "xn7cp4ojOsut",
        "outputId": "da1c3a42-fc82-4aae-9f03-deaeffe3fa2e"
      },
      "execution_count": null,
      "outputs": [
        {
          "output_type": "stream",
          "name": "stdout",
          "text": [
            "Get:1 https://cloud.r-project.org/bin/linux/ubuntu bionic-cran40/ InRelease [3,626 B]\n",
            "Ign:2 https://developer.download.nvidia.com/compute/machine-learning/repos/ubuntu1804/x86_64  InRelease\n",
            "Get:3 https://developer.download.nvidia.com/compute/cuda/repos/ubuntu1804/x86_64  InRelease [1,581 B]\n",
            "Hit:4 https://developer.download.nvidia.com/compute/machine-learning/repos/ubuntu1804/x86_64  Release\n",
            "Get:5 http://security.ubuntu.com/ubuntu bionic-security InRelease [88.7 kB]\n",
            "Get:6 https://developer.download.nvidia.com/compute/cuda/repos/ubuntu1804/x86_64  Packages [1,038 kB]\n",
            "Hit:7 http://ppa.launchpad.net/c2d4u.team/c2d4u4.0+/ubuntu bionic InRelease\n",
            "Hit:8 http://archive.ubuntu.com/ubuntu bionic InRelease\n",
            "Get:10 http://archive.ubuntu.com/ubuntu bionic-updates InRelease [88.7 kB]\n",
            "Hit:11 http://ppa.launchpad.net/cran/libgit2/ubuntu bionic InRelease\n",
            "Hit:12 http://ppa.launchpad.net/deadsnakes/ppa/ubuntu bionic InRelease\n",
            "Get:13 http://security.ubuntu.com/ubuntu bionic-security/main amd64 Packages [3,067 kB]\n",
            "Hit:14 http://ppa.launchpad.net/graphics-drivers/ppa/ubuntu bionic InRelease\n",
            "Get:15 http://archive.ubuntu.com/ubuntu bionic-backports InRelease [83.3 kB]\n",
            "Get:16 http://archive.ubuntu.com/ubuntu bionic-updates/universe amd64 Packages [2,338 kB]\n",
            "Get:17 http://security.ubuntu.com/ubuntu bionic-security/universe amd64 Packages [1,561 kB]\n",
            "Get:18 http://archive.ubuntu.com/ubuntu bionic-updates/main amd64 Packages [3,493 kB]\n",
            "Fetched 11.8 MB in 4s (2,941 kB/s)\n",
            "Reading package lists... Done\n",
            "Building dependency tree       \n",
            "Reading state information... Done\n",
            "9 packages can be upgraded. Run 'apt list --upgradable' to see them.\n"
          ]
        }
      ]
    },
    {
      "cell_type": "code",
      "source": [
        "!apt-get install openjdk-8-jdk-headless -qq > /dev/null\n",
        "!wget -q https://downloads.apache.org/spark/spark-3.2.2//spark-3.2.2-bin-hadoop3.2.tgz\n",
        "!tar xf spark-3.2.2-bin-hadoop3.2.tgz\n",
        "#Configurating Spark with Python\n",
        "!pip install -q findspark\n",
        "!pip install pyspark\n",
        "\n",
        "#Setting environment variables\n",
        "import os\n",
        "os.environ[\"JAVA_HOME\"] = \"/usr/lib/jvm/java-8-openjdk-amd64\"\n",
        "os.environ[\"SPARK_HOME\"] = \"/content/spark-3.2.2-bin-hadoop3.2\"\n",
        "\n",
        "#Installing Spark\n",
        "import findspark\n",
        "findspark.init()\n",
        "findspark.find()\n",
        "\n",
        "#PySpark Imports\n",
        "from pyspark.sql import DataFrame, SparkSession\n",
        "from pyspark.sql import SparkSession\n",
        "from pyspark.sql.functions import col\n",
        "from pyspark.ml.feature import StringIndexer\n",
        "from pyspark.ml.feature import VectorAssembler\n",
        "from typing import List\n",
        "import pyspark.sql.types as T\n",
        "import pyspark.sql.functions as F\n",
        "\n",
        "#For linear regression\n",
        "from pyspark.ml.regression import LinearRegression\n",
        "\n",
        "#Numpy\n",
        "import numpy as np\n",
        "\n",
        "#Cross validation\n",
        "from pyspark.ml import Pipeline\n",
        "from pyspark.ml.classification import LogisticRegression\n",
        "from pyspark.ml.evaluation import BinaryClassificationEvaluator\n",
        "from pyspark.ml.feature import HashingTF, Tokenizer\n",
        "from pyspark.ml.tuning import CrossValidator, ParamGridBuilder"
      ],
      "metadata": {
        "colab": {
          "base_uri": "https://localhost:8080/"
        },
        "id": "9ArxKPg7RLZE",
        "outputId": "6cd1b5a5-3184-44c4-ca9c-4c4bff8777b6"
      },
      "execution_count": null,
      "outputs": [
        {
          "output_type": "stream",
          "name": "stdout",
          "text": [
            "Looking in indexes: https://pypi.org/simple, https://us-python.pkg.dev/colab-wheels/public/simple/\n",
            "Collecting pyspark\n",
            "  Downloading pyspark-3.3.1.tar.gz (281.4 MB)\n",
            "\u001b[K     |████████████████████████████████| 281.4 MB 44 kB/s \n",
            "\u001b[?25hCollecting py4j==0.10.9.5\n",
            "  Downloading py4j-0.10.9.5-py2.py3-none-any.whl (199 kB)\n",
            "\u001b[K     |████████████████████████████████| 199 kB 52.1 MB/s \n",
            "\u001b[?25hBuilding wheels for collected packages: pyspark\n",
            "  Building wheel for pyspark (setup.py) ... \u001b[?25l\u001b[?25hdone\n",
            "  Created wheel for pyspark: filename=pyspark-3.3.1-py2.py3-none-any.whl size=281845512 sha256=ee33bc8e9b1d0f797b01716c62a066520ff75e2a2e978f68793fd46153572cd5\n",
            "  Stored in directory: /root/.cache/pip/wheels/42/59/f5/79a5bf931714dcd201b26025347785f087370a10a3329a899c\n",
            "Successfully built pyspark\n",
            "Installing collected packages: py4j, pyspark\n",
            "Successfully installed py4j-0.10.9.5 pyspark-3.3.1\n"
          ]
        }
      ]
    },
    {
      "cell_type": "markdown",
      "source": [
        "#Create Pyspark Session"
      ],
      "metadata": {
        "id": "x-xH6qyzAE75"
      }
    },
    {
      "cell_type": "markdown",
      "source": [
        "**We create a Pyspark Session so we can interact with different spark's functionality with a less number of constructs. This means that instead of having a spark context, SQL context, etc. all of it is encapsulated in a Spark session. We will call it PySpark_portafolio.**"
      ],
      "metadata": {
        "id": "Pxc5RB09AKgN"
      }
    },
    {
      "cell_type": "code",
      "source": [
        "#Creating Spark Session\n",
        "spark_session = SparkSession.builder.appName('PySpark_portafolio').getOrCreate()\n",
        "spark_session"
      ],
      "metadata": {
        "colab": {
          "base_uri": "https://localhost:8080/",
          "height": 221
        },
        "id": "fQlCkGV2TSnN",
        "outputId": "573b139b-a783-4537-a98a-28e795b93689"
      },
      "execution_count": null,
      "outputs": [
        {
          "output_type": "execute_result",
          "data": {
            "text/plain": [
              "<pyspark.sql.session.SparkSession at 0x7f319856fd50>"
            ],
            "text/html": [
              "\n",
              "            <div>\n",
              "                <p><b>SparkSession - in-memory</b></p>\n",
              "                \n",
              "        <div>\n",
              "            <p><b>SparkContext</b></p>\n",
              "\n",
              "            <p><a href=\"http://abd44b344030:4040\">Spark UI</a></p>\n",
              "\n",
              "            <dl>\n",
              "              <dt>Version</dt>\n",
              "                <dd><code>v3.2.2</code></dd>\n",
              "              <dt>Master</dt>\n",
              "                <dd><code>local[*]</code></dd>\n",
              "              <dt>AppName</dt>\n",
              "                <dd><code>PySpark_portafolio</code></dd>\n",
              "            </dl>\n",
              "        </div>\n",
              "        \n",
              "            </div>\n",
              "        "
            ]
          },
          "metadata": {},
          "execution_count": 79
        }
      ]
    },
    {
      "cell_type": "markdown",
      "source": [
        "#ETL Process"
      ],
      "metadata": {
        "id": "KkEGMa-jGS9i"
      }
    },
    {
      "cell_type": "markdown",
      "source": [
        "**The next step is importing the dataset into the session, so we can perform an etl process for a better model prediction.**"
      ],
      "metadata": {
        "id": "PwiQy2S-AmrY"
      }
    },
    {
      "cell_type": "code",
      "source": [
        "#Reading dataset in Spark Session\n",
        "df  = spark_session.read.csv('aqi_data_17_21.csv', header = True, inferSchema=True)\n",
        "df"
      ],
      "metadata": {
        "colab": {
          "base_uri": "https://localhost:8080/"
        },
        "id": "qQQHNZ6JThux",
        "outputId": "dc9b6861-b91c-4ba2-f118-902422439c14"
      },
      "execution_count": 80,
      "outputs": [
        {
          "output_type": "execute_result",
          "data": {
            "text/plain": [
              "DataFrame[_c0: int, state_code: int, county_code: int, site_number: int, latitude: double, longitude: double, parameter: string, sample_duration: string, pollutant_standard: string, date_local: string, units_of_measure: string, event_type: string, observation_count: int, observation_percent: double, validity_indicator: string, arithmetic_mean: double, first_max_value: double, first_max_hour: int, aqi: double, method: string, local_site_name: string, site_address: string, state: string, county: string, city: string, date_of_last_change: string, year: int]"
            ]
          },
          "metadata": {},
          "execution_count": 80
        }
      ]
    },
    {
      "cell_type": "markdown",
      "source": [
        "**With the following command we visualize the data, it shows only the 20 first rows**"
      ],
      "metadata": {
        "id": "pgVEFTxwBEHd"
      }
    },
    {
      "cell_type": "code",
      "source": [
        "#Showing Dataset information\n",
        "df.show()"
      ],
      "metadata": {
        "colab": {
          "base_uri": "https://localhost:8080/"
        },
        "id": "NJ7A6kntTnoV",
        "outputId": "57f08408-9c32-4ce5-8716-3a8ecabcf355"
      },
      "execution_count": 81,
      "outputs": [
        {
          "output_type": "stream",
          "name": "stdout",
          "text": [
            "+-------+----------+-----------+-----------+------------------+----------+--------------------+---------------+------------------+----------+--------------------+----------+-----------------+-------------------+------------------+---------------+---------------+--------------+----+--------------------+-----------------+--------------------+-------+-------+--------+-------------------+----+\n",
            "|    _c0|state_code|county_code|site_number|          latitude| longitude|           parameter|sample_duration|pollutant_standard|date_local|    units_of_measure|event_type|observation_count|observation_percent|validity_indicator|arithmetic_mean|first_max_value|first_max_hour| aqi|              method|  local_site_name|        site_address|  state| county|    city|date_of_last_change|year|\n",
            "+-------+----------+-----------+-----------+------------------+----------+--------------------+---------------+------------------+----------+--------------------+----------+-----------------+-------------------+------------------+---------------+---------------+--------------+----+--------------------+-----------------+--------------------+-------+-------+--------+-------------------+----+\n",
            "|2327539|         1|          3|         10|30.497478000000005|-87.880258|PM2.5 - Local Con...|        24 HOUR| PM25 24-hour 2006|2017-01-01|Micrograms/cubic ...|      None|                1|              100.0|                 Y|            5.0|            5.0|             0|21.0|R & P Model 2025 ...|FAIRHOPE, Alabama|FAIRHOPE HIGH SCH...|Alabama|Baldwin|Fairhope|         2018-04-30|2017|\n",
            "|2327540|         1|          3|         10|30.497478000000005|-87.880258|PM2.5 - Local Con...|        24 HOUR|  PM25 Annual 2006|2017-01-01|Micrograms/cubic ...|      None|                1|              100.0|                 Y|            5.0|            5.0|             0|21.0|R & P Model 2025 ...|FAIRHOPE, Alabama|FAIRHOPE HIGH SCH...|Alabama|Baldwin|Fairhope|         2018-04-30|2017|\n",
            "|2327541|         1|          3|         10|30.497478000000005|-87.880258|PM2.5 - Local Con...|        24 HOUR| PM25 24-hour 2012|2017-01-01|Micrograms/cubic ...|      None|                1|              100.0|                 Y|            5.0|            5.0|             0|21.0|R & P Model 2025 ...|FAIRHOPE, Alabama|FAIRHOPE HIGH SCH...|Alabama|Baldwin|Fairhope|         2018-04-30|2017|\n",
            "|2327542|         1|          3|         10|30.497478000000005|-87.880258|PM2.5 - Local Con...|        24 HOUR|  PM25 Annual 2012|2017-01-01|Micrograms/cubic ...|      None|                1|              100.0|                 Y|            5.0|            5.0|             0|21.0|R & P Model 2025 ...|FAIRHOPE, Alabama|FAIRHOPE HIGH SCH...|Alabama|Baldwin|Fairhope|         2018-04-30|2017|\n",
            "|2327543|         1|          3|         10|30.497478000000005|-87.880258|PM2.5 - Local Con...|        24 HOUR| PM25 24-hour 2006|2017-01-04|Micrograms/cubic ...|      None|                1|              100.0|                 Y|            5.3|            5.3|             0|22.0|R & P Model 2025 ...|FAIRHOPE, Alabama|FAIRHOPE HIGH SCH...|Alabama|Baldwin|Fairhope|         2018-04-30|2017|\n",
            "|2327544|         1|          3|         10|30.497478000000005|-87.880258|PM2.5 - Local Con...|        24 HOUR|  PM25 Annual 2006|2017-01-04|Micrograms/cubic ...|      None|                1|              100.0|                 Y|            5.3|            5.3|             0|22.0|R & P Model 2025 ...|FAIRHOPE, Alabama|FAIRHOPE HIGH SCH...|Alabama|Baldwin|Fairhope|         2018-04-30|2017|\n",
            "|2327545|         1|          3|         10|30.497478000000005|-87.880258|PM2.5 - Local Con...|        24 HOUR| PM25 24-hour 2012|2017-01-04|Micrograms/cubic ...|      None|                1|              100.0|                 Y|            5.3|            5.3|             0|22.0|R & P Model 2025 ...|FAIRHOPE, Alabama|FAIRHOPE HIGH SCH...|Alabama|Baldwin|Fairhope|         2018-04-30|2017|\n",
            "|2327546|         1|          3|         10|30.497478000000005|-87.880258|PM2.5 - Local Con...|        24 HOUR|  PM25 Annual 2012|2017-01-04|Micrograms/cubic ...|      None|                1|              100.0|                 Y|            5.3|            5.3|             0|22.0|R & P Model 2025 ...|FAIRHOPE, Alabama|FAIRHOPE HIGH SCH...|Alabama|Baldwin|Fairhope|         2018-04-30|2017|\n",
            "|2327547|         1|          3|         10|30.497478000000005|-87.880258|PM2.5 - Local Con...|        24 HOUR| PM25 24-hour 2006|2017-01-10|Micrograms/cubic ...|      None|                1|              100.0|                 Y|            4.5|            4.5|             0|19.0|R & P Model 2025 ...|FAIRHOPE, Alabama|FAIRHOPE HIGH SCH...|Alabama|Baldwin|Fairhope|         2018-04-30|2017|\n",
            "|2327548|         1|          3|         10|30.497478000000005|-87.880258|PM2.5 - Local Con...|        24 HOUR|  PM25 Annual 2006|2017-01-10|Micrograms/cubic ...|      None|                1|              100.0|                 Y|            4.5|            4.5|             0|19.0|R & P Model 2025 ...|FAIRHOPE, Alabama|FAIRHOPE HIGH SCH...|Alabama|Baldwin|Fairhope|         2018-04-30|2017|\n",
            "|2327549|         1|          3|         10|30.497478000000005|-87.880258|PM2.5 - Local Con...|        24 HOUR| PM25 24-hour 2012|2017-01-10|Micrograms/cubic ...|      None|                1|              100.0|                 Y|            4.5|            4.5|             0|19.0|R & P Model 2025 ...|FAIRHOPE, Alabama|FAIRHOPE HIGH SCH...|Alabama|Baldwin|Fairhope|         2018-04-30|2017|\n",
            "|2327550|         1|          3|         10|30.497478000000005|-87.880258|PM2.5 - Local Con...|        24 HOUR|  PM25 Annual 2012|2017-01-10|Micrograms/cubic ...|      None|                1|              100.0|                 Y|            4.5|            4.5|             0|19.0|R & P Model 2025 ...|FAIRHOPE, Alabama|FAIRHOPE HIGH SCH...|Alabama|Baldwin|Fairhope|         2018-04-30|2017|\n",
            "|2327551|         1|          3|         10|30.497478000000005|-87.880258|PM2.5 - Local Con...|        24 HOUR| PM25 24-hour 2006|2017-01-13|Micrograms/cubic ...|      None|                1|              100.0|                 Y|            7.2|            7.2|             0|30.0|R & P Model 2025 ...|FAIRHOPE, Alabama|FAIRHOPE HIGH SCH...|Alabama|Baldwin|Fairhope|         2018-04-30|2017|\n",
            "|2327552|         1|          3|         10|30.497478000000005|-87.880258|PM2.5 - Local Con...|        24 HOUR|  PM25 Annual 2006|2017-01-13|Micrograms/cubic ...|      None|                1|              100.0|                 Y|            7.2|            7.2|             0|30.0|R & P Model 2025 ...|FAIRHOPE, Alabama|FAIRHOPE HIGH SCH...|Alabama|Baldwin|Fairhope|         2018-04-30|2017|\n",
            "|2327553|         1|          3|         10|30.497478000000005|-87.880258|PM2.5 - Local Con...|        24 HOUR| PM25 24-hour 2012|2017-01-13|Micrograms/cubic ...|      None|                1|              100.0|                 Y|            7.2|            7.2|             0|30.0|R & P Model 2025 ...|FAIRHOPE, Alabama|FAIRHOPE HIGH SCH...|Alabama|Baldwin|Fairhope|         2018-04-30|2017|\n",
            "|2327554|         1|          3|         10|30.497478000000005|-87.880258|PM2.5 - Local Con...|        24 HOUR|  PM25 Annual 2012|2017-01-13|Micrograms/cubic ...|      None|                1|              100.0|                 Y|            7.2|            7.2|             0|30.0|R & P Model 2025 ...|FAIRHOPE, Alabama|FAIRHOPE HIGH SCH...|Alabama|Baldwin|Fairhope|         2018-04-30|2017|\n",
            "|2327555|         1|          3|         10|30.497478000000005|-87.880258|PM2.5 - Local Con...|        24 HOUR| PM25 24-hour 2006|2017-01-16|Micrograms/cubic ...|      None|                1|              100.0|                 Y|            3.9|            3.9|             0|16.0|R & P Model 2025 ...|FAIRHOPE, Alabama|FAIRHOPE HIGH SCH...|Alabama|Baldwin|Fairhope|         2018-04-30|2017|\n",
            "|2327556|         1|          3|         10|30.497478000000005|-87.880258|PM2.5 - Local Con...|        24 HOUR|  PM25 Annual 2006|2017-01-16|Micrograms/cubic ...|      None|                1|              100.0|                 Y|            3.9|            3.9|             0|16.0|R & P Model 2025 ...|FAIRHOPE, Alabama|FAIRHOPE HIGH SCH...|Alabama|Baldwin|Fairhope|         2018-04-30|2017|\n",
            "|2327557|         1|          3|         10|30.497478000000005|-87.880258|PM2.5 - Local Con...|        24 HOUR| PM25 24-hour 2012|2017-01-16|Micrograms/cubic ...|      None|                1|              100.0|                 Y|            3.9|            3.9|             0|16.0|R & P Model 2025 ...|FAIRHOPE, Alabama|FAIRHOPE HIGH SCH...|Alabama|Baldwin|Fairhope|         2018-04-30|2017|\n",
            "|2327558|         1|          3|         10|30.497478000000005|-87.880258|PM2.5 - Local Con...|        24 HOUR|  PM25 Annual 2012|2017-01-16|Micrograms/cubic ...|      None|                1|              100.0|                 Y|            3.9|            3.9|             0|16.0|R & P Model 2025 ...|FAIRHOPE, Alabama|FAIRHOPE HIGH SCH...|Alabama|Baldwin|Fairhope|         2018-04-30|2017|\n",
            "+-------+----------+-----------+-----------+------------------+----------+--------------------+---------------+------------------+----------+--------------------+----------+-----------------+-------------------+------------------+---------------+---------------+--------------+----+--------------------+-----------------+--------------------+-------+-------+--------+-------------------+----+\n",
            "only showing top 20 rows\n",
            "\n"
          ]
        }
      ]
    },
    {
      "cell_type": "markdown",
      "source": [
        "**It is also important to visualize the data types, so we can perform a better transformation of the data to construct a better model**"
      ],
      "metadata": {
        "id": "wopMbfzEB4-i"
      }
    },
    {
      "cell_type": "code",
      "source": [
        "#Dataset datatype information\n",
        "df.printSchema()"
      ],
      "metadata": {
        "colab": {
          "base_uri": "https://localhost:8080/"
        },
        "id": "noAqKEPwT03g",
        "outputId": "710965a3-2e5b-4b23-d1d4-d793bf3e39e3"
      },
      "execution_count": 82,
      "outputs": [
        {
          "output_type": "stream",
          "name": "stdout",
          "text": [
            "root\n",
            " |-- _c0: integer (nullable = true)\n",
            " |-- state_code: integer (nullable = true)\n",
            " |-- county_code: integer (nullable = true)\n",
            " |-- site_number: integer (nullable = true)\n",
            " |-- latitude: double (nullable = true)\n",
            " |-- longitude: double (nullable = true)\n",
            " |-- parameter: string (nullable = true)\n",
            " |-- sample_duration: string (nullable = true)\n",
            " |-- pollutant_standard: string (nullable = true)\n",
            " |-- date_local: string (nullable = true)\n",
            " |-- units_of_measure: string (nullable = true)\n",
            " |-- event_type: string (nullable = true)\n",
            " |-- observation_count: integer (nullable = true)\n",
            " |-- observation_percent: double (nullable = true)\n",
            " |-- validity_indicator: string (nullable = true)\n",
            " |-- arithmetic_mean: double (nullable = true)\n",
            " |-- first_max_value: double (nullable = true)\n",
            " |-- first_max_hour: integer (nullable = true)\n",
            " |-- aqi: double (nullable = true)\n",
            " |-- method: string (nullable = true)\n",
            " |-- local_site_name: string (nullable = true)\n",
            " |-- site_address: string (nullable = true)\n",
            " |-- state: string (nullable = true)\n",
            " |-- county: string (nullable = true)\n",
            " |-- city: string (nullable = true)\n",
            " |-- date_of_last_change: string (nullable = true)\n",
            " |-- year: integer (nullable = true)\n",
            "\n"
          ]
        }
      ]
    },
    {
      "cell_type": "markdown",
      "source": [
        "**With the following command we can see how much data (rows) we have in our dataset**"
      ],
      "metadata": {
        "id": "eH3wmfA0CHzA"
      }
    },
    {
      "cell_type": "code",
      "source": [
        "#Determinate the number of data has the dataset\n",
        "df.count()"
      ],
      "metadata": {
        "colab": {
          "base_uri": "https://localhost:8080/"
        },
        "id": "jbxShNP1jZ7r",
        "outputId": "2c205095-9416-4f39-ae05-387eac7d3cde"
      },
      "execution_count": 83,
      "outputs": [
        {
          "output_type": "execute_result",
          "data": {
            "text/plain": [
              "5070158"
            ]
          },
          "metadata": {},
          "execution_count": 83
        }
      ]
    },
    {
      "cell_type": "markdown",
      "source": [
        "**As part of the cleaning process, we have to drop null values. I decided to do it by filtering rows that contain \"null\" values. The reason I decided to do it this way is because the data set I choose has \"null\" string value instead of a \"null pyspark object\", therefore I can not run a na.drop() function**"
      ],
      "metadata": {
        "id": "DT4zG60rCRJ3"
      }
    },
    {
      "cell_type": "code",
      "source": [
        "#Dropping null values. \n",
        "df = df.filter(~col(\"_c0\").contains(\"null\"))\n",
        "df = df.filter(~col(\"state_code\").contains(\"null\"))\n",
        "df = df.filter(~col(\"county_code\").contains(\"null\"))\n",
        "df = df.filter(~col(\"site_number\").contains(\"null\"))\n",
        "df = df.filter(~col(\"latitude\").contains(\"null\"))\n",
        "df = df.filter(~col(\"longitude\").contains(\"null\"))\n",
        "df = df.filter(~col(\"parameter\").contains(\"null\"))\n",
        "df = df.filter(~col(\"sample_duration\").contains(\"null\"))\n",
        "df = df.filter(~col(\"pollutant_standard\").contains(\"null\"))\n",
        "df = df.filter(~col(\"date_local\").contains(\"null\"))\n",
        "df = df.filter(~col(\"units_of_measure\").contains(\"null\"))\n",
        "df = df.filter(~col(\"event_type\").contains(\"null\"))\n",
        "df = df.filter(~col(\"observation_count\").contains(\"null\"))\n",
        "df = df.filter(~col(\"validity_indicator\").contains(\"null\"))\n",
        "df = df.filter(~col(\"observation_percent\").contains(\"null\"))\n",
        "df = df.filter(~col(\"arithmetic_mean\").contains(\"null\"))\n",
        "df = df.filter(~col(\"first_max_value\").contains(\"null\"))\n",
        "df = df.filter(~col(\"first_max_hour\").contains(\"null\"))\n",
        "df = df.filter(~col(\"aqi\").contains(\"null\"))\n",
        "df = df.filter(~col(\"method\").contains(\"null\"))\n",
        "df = df.filter(~col(\"local_site_name\").contains(\"null\"))\n",
        "df = df.filter(~col(\"site_address\").contains(\"null\"))\n",
        "df = df.filter(~col(\"state\").contains(\"null\"))\n",
        "df = df.filter(~col(\"county\").contains(\"null\"))\n",
        "df = df.filter(~col(\"city\").contains(\"null\"))\n",
        "df = df.filter(~col(\"date_of_last_change\").contains(\"null\"))\n",
        "df = df.filter(~col(\"year\").contains(\"null\"))\n",
        "df.show()"
      ],
      "metadata": {
        "colab": {
          "base_uri": "https://localhost:8080/"
        },
        "id": "kAszeOfIxR_I",
        "outputId": "329633b1-5180-4f83-f1c3-fc1f5f28fac5"
      },
      "execution_count": 84,
      "outputs": [
        {
          "output_type": "stream",
          "name": "stdout",
          "text": [
            "+-------+----------+-----------+-----------+------------------+----------+--------------------+---------------+------------------+----------+--------------------+----------+-----------------+-------------------+------------------+---------------+---------------+--------------+----+--------------------+-----------------+--------------------+-------+-------+--------+-------------------+----+\n",
            "|    _c0|state_code|county_code|site_number|          latitude| longitude|           parameter|sample_duration|pollutant_standard|date_local|    units_of_measure|event_type|observation_count|observation_percent|validity_indicator|arithmetic_mean|first_max_value|first_max_hour| aqi|              method|  local_site_name|        site_address|  state| county|    city|date_of_last_change|year|\n",
            "+-------+----------+-----------+-----------+------------------+----------+--------------------+---------------+------------------+----------+--------------------+----------+-----------------+-------------------+------------------+---------------+---------------+--------------+----+--------------------+-----------------+--------------------+-------+-------+--------+-------------------+----+\n",
            "|2327539|         1|          3|         10|30.497478000000005|-87.880258|PM2.5 - Local Con...|        24 HOUR| PM25 24-hour 2006|2017-01-01|Micrograms/cubic ...|      None|                1|              100.0|                 Y|            5.0|            5.0|             0|21.0|R & P Model 2025 ...|FAIRHOPE, Alabama|FAIRHOPE HIGH SCH...|Alabama|Baldwin|Fairhope|         2018-04-30|2017|\n",
            "|2327540|         1|          3|         10|30.497478000000005|-87.880258|PM2.5 - Local Con...|        24 HOUR|  PM25 Annual 2006|2017-01-01|Micrograms/cubic ...|      None|                1|              100.0|                 Y|            5.0|            5.0|             0|21.0|R & P Model 2025 ...|FAIRHOPE, Alabama|FAIRHOPE HIGH SCH...|Alabama|Baldwin|Fairhope|         2018-04-30|2017|\n",
            "|2327541|         1|          3|         10|30.497478000000005|-87.880258|PM2.5 - Local Con...|        24 HOUR| PM25 24-hour 2012|2017-01-01|Micrograms/cubic ...|      None|                1|              100.0|                 Y|            5.0|            5.0|             0|21.0|R & P Model 2025 ...|FAIRHOPE, Alabama|FAIRHOPE HIGH SCH...|Alabama|Baldwin|Fairhope|         2018-04-30|2017|\n",
            "|2327542|         1|          3|         10|30.497478000000005|-87.880258|PM2.5 - Local Con...|        24 HOUR|  PM25 Annual 2012|2017-01-01|Micrograms/cubic ...|      None|                1|              100.0|                 Y|            5.0|            5.0|             0|21.0|R & P Model 2025 ...|FAIRHOPE, Alabama|FAIRHOPE HIGH SCH...|Alabama|Baldwin|Fairhope|         2018-04-30|2017|\n",
            "|2327543|         1|          3|         10|30.497478000000005|-87.880258|PM2.5 - Local Con...|        24 HOUR| PM25 24-hour 2006|2017-01-04|Micrograms/cubic ...|      None|                1|              100.0|                 Y|            5.3|            5.3|             0|22.0|R & P Model 2025 ...|FAIRHOPE, Alabama|FAIRHOPE HIGH SCH...|Alabama|Baldwin|Fairhope|         2018-04-30|2017|\n",
            "|2327544|         1|          3|         10|30.497478000000005|-87.880258|PM2.5 - Local Con...|        24 HOUR|  PM25 Annual 2006|2017-01-04|Micrograms/cubic ...|      None|                1|              100.0|                 Y|            5.3|            5.3|             0|22.0|R & P Model 2025 ...|FAIRHOPE, Alabama|FAIRHOPE HIGH SCH...|Alabama|Baldwin|Fairhope|         2018-04-30|2017|\n",
            "|2327545|         1|          3|         10|30.497478000000005|-87.880258|PM2.5 - Local Con...|        24 HOUR| PM25 24-hour 2012|2017-01-04|Micrograms/cubic ...|      None|                1|              100.0|                 Y|            5.3|            5.3|             0|22.0|R & P Model 2025 ...|FAIRHOPE, Alabama|FAIRHOPE HIGH SCH...|Alabama|Baldwin|Fairhope|         2018-04-30|2017|\n",
            "|2327546|         1|          3|         10|30.497478000000005|-87.880258|PM2.5 - Local Con...|        24 HOUR|  PM25 Annual 2012|2017-01-04|Micrograms/cubic ...|      None|                1|              100.0|                 Y|            5.3|            5.3|             0|22.0|R & P Model 2025 ...|FAIRHOPE, Alabama|FAIRHOPE HIGH SCH...|Alabama|Baldwin|Fairhope|         2018-04-30|2017|\n",
            "|2327547|         1|          3|         10|30.497478000000005|-87.880258|PM2.5 - Local Con...|        24 HOUR| PM25 24-hour 2006|2017-01-10|Micrograms/cubic ...|      None|                1|              100.0|                 Y|            4.5|            4.5|             0|19.0|R & P Model 2025 ...|FAIRHOPE, Alabama|FAIRHOPE HIGH SCH...|Alabama|Baldwin|Fairhope|         2018-04-30|2017|\n",
            "|2327548|         1|          3|         10|30.497478000000005|-87.880258|PM2.5 - Local Con...|        24 HOUR|  PM25 Annual 2006|2017-01-10|Micrograms/cubic ...|      None|                1|              100.0|                 Y|            4.5|            4.5|             0|19.0|R & P Model 2025 ...|FAIRHOPE, Alabama|FAIRHOPE HIGH SCH...|Alabama|Baldwin|Fairhope|         2018-04-30|2017|\n",
            "|2327549|         1|          3|         10|30.497478000000005|-87.880258|PM2.5 - Local Con...|        24 HOUR| PM25 24-hour 2012|2017-01-10|Micrograms/cubic ...|      None|                1|              100.0|                 Y|            4.5|            4.5|             0|19.0|R & P Model 2025 ...|FAIRHOPE, Alabama|FAIRHOPE HIGH SCH...|Alabama|Baldwin|Fairhope|         2018-04-30|2017|\n",
            "|2327550|         1|          3|         10|30.497478000000005|-87.880258|PM2.5 - Local Con...|        24 HOUR|  PM25 Annual 2012|2017-01-10|Micrograms/cubic ...|      None|                1|              100.0|                 Y|            4.5|            4.5|             0|19.0|R & P Model 2025 ...|FAIRHOPE, Alabama|FAIRHOPE HIGH SCH...|Alabama|Baldwin|Fairhope|         2018-04-30|2017|\n",
            "|2327551|         1|          3|         10|30.497478000000005|-87.880258|PM2.5 - Local Con...|        24 HOUR| PM25 24-hour 2006|2017-01-13|Micrograms/cubic ...|      None|                1|              100.0|                 Y|            7.2|            7.2|             0|30.0|R & P Model 2025 ...|FAIRHOPE, Alabama|FAIRHOPE HIGH SCH...|Alabama|Baldwin|Fairhope|         2018-04-30|2017|\n",
            "|2327552|         1|          3|         10|30.497478000000005|-87.880258|PM2.5 - Local Con...|        24 HOUR|  PM25 Annual 2006|2017-01-13|Micrograms/cubic ...|      None|                1|              100.0|                 Y|            7.2|            7.2|             0|30.0|R & P Model 2025 ...|FAIRHOPE, Alabama|FAIRHOPE HIGH SCH...|Alabama|Baldwin|Fairhope|         2018-04-30|2017|\n",
            "|2327553|         1|          3|         10|30.497478000000005|-87.880258|PM2.5 - Local Con...|        24 HOUR| PM25 24-hour 2012|2017-01-13|Micrograms/cubic ...|      None|                1|              100.0|                 Y|            7.2|            7.2|             0|30.0|R & P Model 2025 ...|FAIRHOPE, Alabama|FAIRHOPE HIGH SCH...|Alabama|Baldwin|Fairhope|         2018-04-30|2017|\n",
            "|2327554|         1|          3|         10|30.497478000000005|-87.880258|PM2.5 - Local Con...|        24 HOUR|  PM25 Annual 2012|2017-01-13|Micrograms/cubic ...|      None|                1|              100.0|                 Y|            7.2|            7.2|             0|30.0|R & P Model 2025 ...|FAIRHOPE, Alabama|FAIRHOPE HIGH SCH...|Alabama|Baldwin|Fairhope|         2018-04-30|2017|\n",
            "|2327555|         1|          3|         10|30.497478000000005|-87.880258|PM2.5 - Local Con...|        24 HOUR| PM25 24-hour 2006|2017-01-16|Micrograms/cubic ...|      None|                1|              100.0|                 Y|            3.9|            3.9|             0|16.0|R & P Model 2025 ...|FAIRHOPE, Alabama|FAIRHOPE HIGH SCH...|Alabama|Baldwin|Fairhope|         2018-04-30|2017|\n",
            "|2327556|         1|          3|         10|30.497478000000005|-87.880258|PM2.5 - Local Con...|        24 HOUR|  PM25 Annual 2006|2017-01-16|Micrograms/cubic ...|      None|                1|              100.0|                 Y|            3.9|            3.9|             0|16.0|R & P Model 2025 ...|FAIRHOPE, Alabama|FAIRHOPE HIGH SCH...|Alabama|Baldwin|Fairhope|         2018-04-30|2017|\n",
            "|2327557|         1|          3|         10|30.497478000000005|-87.880258|PM2.5 - Local Con...|        24 HOUR| PM25 24-hour 2012|2017-01-16|Micrograms/cubic ...|      None|                1|              100.0|                 Y|            3.9|            3.9|             0|16.0|R & P Model 2025 ...|FAIRHOPE, Alabama|FAIRHOPE HIGH SCH...|Alabama|Baldwin|Fairhope|         2018-04-30|2017|\n",
            "|2327558|         1|          3|         10|30.497478000000005|-87.880258|PM2.5 - Local Con...|        24 HOUR|  PM25 Annual 2012|2017-01-16|Micrograms/cubic ...|      None|                1|              100.0|                 Y|            3.9|            3.9|             0|16.0|R & P Model 2025 ...|FAIRHOPE, Alabama|FAIRHOPE HIGH SCH...|Alabama|Baldwin|Fairhope|         2018-04-30|2017|\n",
            "+-------+----------+-----------+-----------+------------------+----------+--------------------+---------------+------------------+----------+--------------------+----------+-----------------+-------------------+------------------+---------------+---------------+--------------+----+--------------------+-----------------+--------------------+-------+-------+--------+-------------------+----+\n",
            "only showing top 20 rows\n",
            "\n"
          ]
        }
      ]
    },
    {
      "cell_type": "markdown",
      "source": [
        "**Now we can see how much values are left after dropping null values.**"
      ],
      "metadata": {
        "id": "zD2f6ml0C-eu"
      }
    },
    {
      "cell_type": "code",
      "source": [
        "#Determinate the new nunmber of data has the dataset after dropping nulls\n",
        "df.count()"
      ],
      "metadata": {
        "colab": {
          "base_uri": "https://localhost:8080/"
        },
        "id": "IZeMHqxExZNK",
        "outputId": "23077f49-75d2-4583-d963-97665a93add4"
      },
      "execution_count": 85,
      "outputs": [
        {
          "output_type": "execute_result",
          "data": {
            "text/plain": [
              "4114768"
            ]
          },
          "metadata": {},
          "execution_count": 85
        }
      ]
    },
    {
      "cell_type": "markdown",
      "source": [
        "**This dataset has 14 columns with categorical information. Therefore is important to have a way to represent this information that can help with the model. I decided to do a label encoding instead of a One Hot Encoding as there are many values a column can have.** \n",
        "\n",
        "\n",
        "**Pyspark provides an indexer tool for encoding the levels of categorical features into numeric values. LabelEncoder as it name says encode labels with a value between 0 and n-1 where n is the number of distinct labels. The way it is optimized is that if a label repeats it assigns the same value to the previously assigned.**"
      ],
      "metadata": {
        "id": "IslzgVoEDHL2"
      }
    },
    {
      "cell_type": "code",
      "source": [
        "#Label Encoding\n",
        "indexer_parameter = StringIndexer(inputCol=\"parameter\", outputCol=\"parameter_index\") \n",
        "df = indexer_parameter.fit(df).transform(df)\n",
        "indexer_sample_duration= StringIndexer(inputCol=\"sample_duration\", outputCol=\"sample_duration_index\") \n",
        "df = indexer_sample_duration.fit(df).transform(df) \n",
        "indexer_pollutant_standard= StringIndexer(inputCol=\"pollutant_standard\", outputCol=\"pollutant_standard_index\") \n",
        "df = indexer_pollutant_standard.fit(df).transform(df) \n",
        "indexer_date_local= StringIndexer(inputCol=\"date_local\", outputCol=\"date_local_index\") \n",
        "df = indexer_date_local.fit(df).transform(df) \n",
        "indexer_units_of_measure= StringIndexer(inputCol=\"units_of_measure\", outputCol=\"units_of_measure_index\") \n",
        "df = indexer_units_of_measure.fit(df).transform(df) \n",
        "indexer_event_type= StringIndexer(inputCol=\"event_type\", outputCol=\"event_type_index\") \n",
        "df = indexer_event_type.fit(df).transform(df) \n",
        "indexer_validity_indicator= StringIndexer(inputCol=\"validity_indicator\", outputCol=\"validity_indicator_index\") \n",
        "df = indexer_validity_indicator.fit(df).transform(df) \n",
        "indexer_method= StringIndexer(inputCol=\"method\", outputCol=\"method_index\") \n",
        "df = indexer_method.fit(df).transform(df) \n",
        "indexer_local_site_name= StringIndexer(inputCol=\"local_site_name\", outputCol=\"local_site_name_index\") \n",
        "df = indexer_local_site_name.fit(df).transform(df) \n",
        "indexer_site_address= StringIndexer(inputCol=\"site_address\", outputCol=\"site_address_index\") \n",
        "df = indexer_site_address.fit(df).transform(df) \n",
        "indexer_state= StringIndexer(inputCol=\"state\", outputCol=\"state_index\") \n",
        "df = indexer_state.fit(df).transform(df) \n",
        "indexer_country= StringIndexer(inputCol=\"county\", outputCol=\"county_index\") \n",
        "df = indexer_country.fit(df).transform(df) \n",
        "indexer_city= StringIndexer(inputCol=\"city\", outputCol=\"city_index\") \n",
        "df = indexer_city.fit(df).transform(df) \n",
        "indexer_date_of_last_change= StringIndexer(inputCol=\"date_of_last_change\", outputCol=\"date_of_last_change_index\") \n",
        "df = indexer_date_of_last_change.fit(df).transform(df) \n",
        "df.show()"
      ],
      "metadata": {
        "colab": {
          "base_uri": "https://localhost:8080/"
        },
        "id": "Lp_Kp4bV9Tps",
        "outputId": "fbf7360a-97b5-446f-9c0f-084316afbd8f"
      },
      "execution_count": 86,
      "outputs": [
        {
          "output_type": "stream",
          "name": "stdout",
          "text": [
            "+-------+----------+-----------+-----------+------------------+----------+--------------------+---------------+------------------+----------+--------------------+----------+-----------------+-------------------+------------------+---------------+---------------+--------------+----+--------------------+-----------------+--------------------+-------+-------+--------+-------------------+----+---------------+---------------------+------------------------+----------------+----------------------+----------------+------------------------+------------+---------------------+------------------+-----------+------------+----------+-------------------------+\n",
            "|    _c0|state_code|county_code|site_number|          latitude| longitude|           parameter|sample_duration|pollutant_standard|date_local|    units_of_measure|event_type|observation_count|observation_percent|validity_indicator|arithmetic_mean|first_max_value|first_max_hour| aqi|              method|  local_site_name|        site_address|  state| county|    city|date_of_last_change|year|parameter_index|sample_duration_index|pollutant_standard_index|date_local_index|units_of_measure_index|event_type_index|validity_indicator_index|method_index|local_site_name_index|site_address_index|state_index|county_index|city_index|date_of_last_change_index|\n",
            "+-------+----------+-----------+-----------+------------------+----------+--------------------+---------------+------------------+----------+--------------------+----------+-----------------+-------------------+------------------+---------------+---------------+--------------+----+--------------------+-----------------+--------------------+-------+-------+--------+-------------------+----+---------------+---------------------+------------------------+----------------+----------------------+----------------+------------------------+------------+---------------------+------------------+-----------+------------+----------+-------------------------+\n",
            "|2327539|         1|          3|         10|30.497478000000005|-87.880258|PM2.5 - Local Con...|        24 HOUR| PM25 24-hour 2006|2017-01-01|Micrograms/cubic ...|      None|                1|              100.0|                 Y|            5.0|            5.0|             0|21.0|R & P Model 2025 ...|FAIRHOPE, Alabama|FAIRHOPE HIGH SCH...|Alabama|Baldwin|Fairhope|         2018-04-30|2017|            0.0|                  1.0|                     0.0|           121.0|                   0.0|             0.0|                     0.0|         1.0|                815.0|             822.0|       36.0|       460.0|     569.0|                    145.0|\n",
            "|2327540|         1|          3|         10|30.497478000000005|-87.880258|PM2.5 - Local Con...|        24 HOUR|  PM25 Annual 2006|2017-01-01|Micrograms/cubic ...|      None|                1|              100.0|                 Y|            5.0|            5.0|             0|21.0|R & P Model 2025 ...|FAIRHOPE, Alabama|FAIRHOPE HIGH SCH...|Alabama|Baldwin|Fairhope|         2018-04-30|2017|            0.0|                  1.0|                     2.0|           121.0|                   0.0|             0.0|                     0.0|         1.0|                815.0|             822.0|       36.0|       460.0|     569.0|                    145.0|\n",
            "|2327541|         1|          3|         10|30.497478000000005|-87.880258|PM2.5 - Local Con...|        24 HOUR| PM25 24-hour 2012|2017-01-01|Micrograms/cubic ...|      None|                1|              100.0|                 Y|            5.0|            5.0|             0|21.0|R & P Model 2025 ...|FAIRHOPE, Alabama|FAIRHOPE HIGH SCH...|Alabama|Baldwin|Fairhope|         2018-04-30|2017|            0.0|                  1.0|                     1.0|           121.0|                   0.0|             0.0|                     0.0|         1.0|                815.0|             822.0|       36.0|       460.0|     569.0|                    145.0|\n",
            "|2327542|         1|          3|         10|30.497478000000005|-87.880258|PM2.5 - Local Con...|        24 HOUR|  PM25 Annual 2012|2017-01-01|Micrograms/cubic ...|      None|                1|              100.0|                 Y|            5.0|            5.0|             0|21.0|R & P Model 2025 ...|FAIRHOPE, Alabama|FAIRHOPE HIGH SCH...|Alabama|Baldwin|Fairhope|         2018-04-30|2017|            0.0|                  1.0|                     3.0|           121.0|                   0.0|             0.0|                     0.0|         1.0|                815.0|             822.0|       36.0|       460.0|     569.0|                    145.0|\n",
            "|2327543|         1|          3|         10|30.497478000000005|-87.880258|PM2.5 - Local Con...|        24 HOUR| PM25 24-hour 2006|2017-01-04|Micrograms/cubic ...|      None|                1|              100.0|                 Y|            5.3|            5.3|             0|22.0|R & P Model 2025 ...|FAIRHOPE, Alabama|FAIRHOPE HIGH SCH...|Alabama|Baldwin|Fairhope|         2018-04-30|2017|            0.0|                  1.0|                     0.0|           304.0|                   0.0|             0.0|                     0.0|         1.0|                815.0|             822.0|       36.0|       460.0|     569.0|                    145.0|\n",
            "|2327544|         1|          3|         10|30.497478000000005|-87.880258|PM2.5 - Local Con...|        24 HOUR|  PM25 Annual 2006|2017-01-04|Micrograms/cubic ...|      None|                1|              100.0|                 Y|            5.3|            5.3|             0|22.0|R & P Model 2025 ...|FAIRHOPE, Alabama|FAIRHOPE HIGH SCH...|Alabama|Baldwin|Fairhope|         2018-04-30|2017|            0.0|                  1.0|                     2.0|           304.0|                   0.0|             0.0|                     0.0|         1.0|                815.0|             822.0|       36.0|       460.0|     569.0|                    145.0|\n",
            "|2327545|         1|          3|         10|30.497478000000005|-87.880258|PM2.5 - Local Con...|        24 HOUR| PM25 24-hour 2012|2017-01-04|Micrograms/cubic ...|      None|                1|              100.0|                 Y|            5.3|            5.3|             0|22.0|R & P Model 2025 ...|FAIRHOPE, Alabama|FAIRHOPE HIGH SCH...|Alabama|Baldwin|Fairhope|         2018-04-30|2017|            0.0|                  1.0|                     1.0|           304.0|                   0.0|             0.0|                     0.0|         1.0|                815.0|             822.0|       36.0|       460.0|     569.0|                    145.0|\n",
            "|2327546|         1|          3|         10|30.497478000000005|-87.880258|PM2.5 - Local Con...|        24 HOUR|  PM25 Annual 2012|2017-01-04|Micrograms/cubic ...|      None|                1|              100.0|                 Y|            5.3|            5.3|             0|22.0|R & P Model 2025 ...|FAIRHOPE, Alabama|FAIRHOPE HIGH SCH...|Alabama|Baldwin|Fairhope|         2018-04-30|2017|            0.0|                  1.0|                     3.0|           304.0|                   0.0|             0.0|                     0.0|         1.0|                815.0|             822.0|       36.0|       460.0|     569.0|                    145.0|\n",
            "|2327547|         1|          3|         10|30.497478000000005|-87.880258|PM2.5 - Local Con...|        24 HOUR| PM25 24-hour 2006|2017-01-10|Micrograms/cubic ...|      None|                1|              100.0|                 Y|            4.5|            4.5|             0|19.0|R & P Model 2025 ...|FAIRHOPE, Alabama|FAIRHOPE HIGH SCH...|Alabama|Baldwin|Fairhope|         2018-04-30|2017|            0.0|                  1.0|                     0.0|           331.0|                   0.0|             0.0|                     0.0|         1.0|                815.0|             822.0|       36.0|       460.0|     569.0|                    145.0|\n",
            "|2327548|         1|          3|         10|30.497478000000005|-87.880258|PM2.5 - Local Con...|        24 HOUR|  PM25 Annual 2006|2017-01-10|Micrograms/cubic ...|      None|                1|              100.0|                 Y|            4.5|            4.5|             0|19.0|R & P Model 2025 ...|FAIRHOPE, Alabama|FAIRHOPE HIGH SCH...|Alabama|Baldwin|Fairhope|         2018-04-30|2017|            0.0|                  1.0|                     2.0|           331.0|                   0.0|             0.0|                     0.0|         1.0|                815.0|             822.0|       36.0|       460.0|     569.0|                    145.0|\n",
            "|2327549|         1|          3|         10|30.497478000000005|-87.880258|PM2.5 - Local Con...|        24 HOUR| PM25 24-hour 2012|2017-01-10|Micrograms/cubic ...|      None|                1|              100.0|                 Y|            4.5|            4.5|             0|19.0|R & P Model 2025 ...|FAIRHOPE, Alabama|FAIRHOPE HIGH SCH...|Alabama|Baldwin|Fairhope|         2018-04-30|2017|            0.0|                  1.0|                     1.0|           331.0|                   0.0|             0.0|                     0.0|         1.0|                815.0|             822.0|       36.0|       460.0|     569.0|                    145.0|\n",
            "|2327550|         1|          3|         10|30.497478000000005|-87.880258|PM2.5 - Local Con...|        24 HOUR|  PM25 Annual 2012|2017-01-10|Micrograms/cubic ...|      None|                1|              100.0|                 Y|            4.5|            4.5|             0|19.0|R & P Model 2025 ...|FAIRHOPE, Alabama|FAIRHOPE HIGH SCH...|Alabama|Baldwin|Fairhope|         2018-04-30|2017|            0.0|                  1.0|                     3.0|           331.0|                   0.0|             0.0|                     0.0|         1.0|                815.0|             822.0|       36.0|       460.0|     569.0|                    145.0|\n",
            "|2327551|         1|          3|         10|30.497478000000005|-87.880258|PM2.5 - Local Con...|        24 HOUR| PM25 24-hour 2006|2017-01-13|Micrograms/cubic ...|      None|                1|              100.0|                 Y|            7.2|            7.2|             0|30.0|R & P Model 2025 ...|FAIRHOPE, Alabama|FAIRHOPE HIGH SCH...|Alabama|Baldwin|Fairhope|         2018-04-30|2017|            0.0|                  1.0|                     0.0|           136.0|                   0.0|             0.0|                     0.0|         1.0|                815.0|             822.0|       36.0|       460.0|     569.0|                    145.0|\n",
            "|2327552|         1|          3|         10|30.497478000000005|-87.880258|PM2.5 - Local Con...|        24 HOUR|  PM25 Annual 2006|2017-01-13|Micrograms/cubic ...|      None|                1|              100.0|                 Y|            7.2|            7.2|             0|30.0|R & P Model 2025 ...|FAIRHOPE, Alabama|FAIRHOPE HIGH SCH...|Alabama|Baldwin|Fairhope|         2018-04-30|2017|            0.0|                  1.0|                     2.0|           136.0|                   0.0|             0.0|                     0.0|         1.0|                815.0|             822.0|       36.0|       460.0|     569.0|                    145.0|\n",
            "|2327553|         1|          3|         10|30.497478000000005|-87.880258|PM2.5 - Local Con...|        24 HOUR| PM25 24-hour 2012|2017-01-13|Micrograms/cubic ...|      None|                1|              100.0|                 Y|            7.2|            7.2|             0|30.0|R & P Model 2025 ...|FAIRHOPE, Alabama|FAIRHOPE HIGH SCH...|Alabama|Baldwin|Fairhope|         2018-04-30|2017|            0.0|                  1.0|                     1.0|           136.0|                   0.0|             0.0|                     0.0|         1.0|                815.0|             822.0|       36.0|       460.0|     569.0|                    145.0|\n",
            "|2327554|         1|          3|         10|30.497478000000005|-87.880258|PM2.5 - Local Con...|        24 HOUR|  PM25 Annual 2012|2017-01-13|Micrograms/cubic ...|      None|                1|              100.0|                 Y|            7.2|            7.2|             0|30.0|R & P Model 2025 ...|FAIRHOPE, Alabama|FAIRHOPE HIGH SCH...|Alabama|Baldwin|Fairhope|         2018-04-30|2017|            0.0|                  1.0|                     3.0|           136.0|                   0.0|             0.0|                     0.0|         1.0|                815.0|             822.0|       36.0|       460.0|     569.0|                    145.0|\n",
            "|2327555|         1|          3|         10|30.497478000000005|-87.880258|PM2.5 - Local Con...|        24 HOUR| PM25 24-hour 2006|2017-01-16|Micrograms/cubic ...|      None|                1|              100.0|                 Y|            3.9|            3.9|             0|16.0|R & P Model 2025 ...|FAIRHOPE, Alabama|FAIRHOPE HIGH SCH...|Alabama|Baldwin|Fairhope|         2018-04-30|2017|            0.0|                  1.0|                     0.0|           301.0|                   0.0|             0.0|                     0.0|         1.0|                815.0|             822.0|       36.0|       460.0|     569.0|                    145.0|\n",
            "|2327556|         1|          3|         10|30.497478000000005|-87.880258|PM2.5 - Local Con...|        24 HOUR|  PM25 Annual 2006|2017-01-16|Micrograms/cubic ...|      None|                1|              100.0|                 Y|            3.9|            3.9|             0|16.0|R & P Model 2025 ...|FAIRHOPE, Alabama|FAIRHOPE HIGH SCH...|Alabama|Baldwin|Fairhope|         2018-04-30|2017|            0.0|                  1.0|                     2.0|           301.0|                   0.0|             0.0|                     0.0|         1.0|                815.0|             822.0|       36.0|       460.0|     569.0|                    145.0|\n",
            "|2327557|         1|          3|         10|30.497478000000005|-87.880258|PM2.5 - Local Con...|        24 HOUR| PM25 24-hour 2012|2017-01-16|Micrograms/cubic ...|      None|                1|              100.0|                 Y|            3.9|            3.9|             0|16.0|R & P Model 2025 ...|FAIRHOPE, Alabama|FAIRHOPE HIGH SCH...|Alabama|Baldwin|Fairhope|         2018-04-30|2017|            0.0|                  1.0|                     1.0|           301.0|                   0.0|             0.0|                     0.0|         1.0|                815.0|             822.0|       36.0|       460.0|     569.0|                    145.0|\n",
            "|2327558|         1|          3|         10|30.497478000000005|-87.880258|PM2.5 - Local Con...|        24 HOUR|  PM25 Annual 2012|2017-01-16|Micrograms/cubic ...|      None|                1|              100.0|                 Y|            3.9|            3.9|             0|16.0|R & P Model 2025 ...|FAIRHOPE, Alabama|FAIRHOPE HIGH SCH...|Alabama|Baldwin|Fairhope|         2018-04-30|2017|            0.0|                  1.0|                     3.0|           301.0|                   0.0|             0.0|                     0.0|         1.0|                815.0|             822.0|       36.0|       460.0|     569.0|                    145.0|\n",
            "+-------+----------+-----------+-----------+------------------+----------+--------------------+---------------+------------------+----------+--------------------+----------+-----------------+-------------------+------------------+---------------+---------------+--------------+----+--------------------+-----------------+--------------------+-------+-------+--------+-------------------+----+---------------+---------------------+------------------------+----------------+----------------------+----------------+------------------------+------------+---------------------+------------------+-----------+------------+----------+-------------------------+\n",
            "only showing top 20 rows\n",
            "\n"
          ]
        }
      ]
    },
    {
      "cell_type": "markdown",
      "source": [
        "**Now we are ready to drop the old categorical columns, as we have indexed ones. And drop other columns that are not that valuable for the model. This information is based on the Kaggle dataset overall analysis**"
      ],
      "metadata": {
        "id": "uflLS90fFe8z"
      }
    },
    {
      "cell_type": "code",
      "source": [
        "#Dropping Categorical Columns\n",
        "df = df.drop(\"parameter\")\n",
        "df = df.drop(\"sample_duration\")\n",
        "df = df.drop(\"pollutant_standard\")\n",
        "df = df.drop(\"date_local\")\n",
        "df = df.drop(\"units_of_measure\")\n",
        "df = df.drop(\"event_type\")\n",
        "df = df.drop(\"validity_indicator\")\n",
        "df = df.drop(\"method\")\n",
        "df = df.drop(\"local_site_name\")\n",
        "df = df.drop(\"site_address\")\n",
        "df = df.drop(\"state\")\n",
        "df = df.drop(\"county\")\n",
        "df = df.drop(\"city\")\n",
        "df = df.drop(\"date_of_last_change\")\n",
        "#Deleating information after analizing the dataset\n",
        "df = df.drop(\"parameter_index\") #1 unique value\n",
        "df = df.drop(\"event_type_index\") #95% has a \"none\" string unique value\n",
        "df = df.drop(\"observation_count\") #95% has a \"1\" int value\n",
        "df = df.drop(\"observation_percent\") #95% has a \"100\" int value\n",
        "df = df.drop(\"site_address\") #has a lot of unique value\n",
        "df = df.drop(\"units_of_measure_index\") #1 unique value\n",
        "df = df.drop(\"_c0\") #ID"
      ],
      "metadata": {
        "id": "Z_rFRa2C_oEB"
      },
      "execution_count": 87,
      "outputs": []
    },
    {
      "cell_type": "code",
      "source": [
        "#Visualizing the dataset\n",
        "df.show()"
      ],
      "metadata": {
        "id": "j3f3QF6V_r-j",
        "colab": {
          "base_uri": "https://localhost:8080/"
        },
        "outputId": "27bb68a1-6fd6-435f-af2a-34e8a5c0e9f5"
      },
      "execution_count": 88,
      "outputs": [
        {
          "output_type": "stream",
          "name": "stdout",
          "text": [
            "+----------+-----------+-----------+------------------+----------+---------------+---------------+--------------+----+----+---------------------+------------------------+----------------+------------------------+------------+---------------------+------------------+-----------+------------+----------+-------------------------+\n",
            "|state_code|county_code|site_number|          latitude| longitude|arithmetic_mean|first_max_value|first_max_hour| aqi|year|sample_duration_index|pollutant_standard_index|date_local_index|validity_indicator_index|method_index|local_site_name_index|site_address_index|state_index|county_index|city_index|date_of_last_change_index|\n",
            "+----------+-----------+-----------+------------------+----------+---------------+---------------+--------------+----+----+---------------------+------------------------+----------------+------------------------+------------+---------------------+------------------+-----------+------------+----------+-------------------------+\n",
            "|         1|          3|         10|30.497478000000005|-87.880258|            5.0|            5.0|             0|21.0|2017|                  1.0|                     0.0|           121.0|                     0.0|         1.0|                815.0|             822.0|       36.0|       460.0|     569.0|                    145.0|\n",
            "|         1|          3|         10|30.497478000000005|-87.880258|            5.0|            5.0|             0|21.0|2017|                  1.0|                     2.0|           121.0|                     0.0|         1.0|                815.0|             822.0|       36.0|       460.0|     569.0|                    145.0|\n",
            "|         1|          3|         10|30.497478000000005|-87.880258|            5.0|            5.0|             0|21.0|2017|                  1.0|                     1.0|           121.0|                     0.0|         1.0|                815.0|             822.0|       36.0|       460.0|     569.0|                    145.0|\n",
            "|         1|          3|         10|30.497478000000005|-87.880258|            5.0|            5.0|             0|21.0|2017|                  1.0|                     3.0|           121.0|                     0.0|         1.0|                815.0|             822.0|       36.0|       460.0|     569.0|                    145.0|\n",
            "|         1|          3|         10|30.497478000000005|-87.880258|            5.3|            5.3|             0|22.0|2017|                  1.0|                     0.0|           304.0|                     0.0|         1.0|                815.0|             822.0|       36.0|       460.0|     569.0|                    145.0|\n",
            "|         1|          3|         10|30.497478000000005|-87.880258|            5.3|            5.3|             0|22.0|2017|                  1.0|                     2.0|           304.0|                     0.0|         1.0|                815.0|             822.0|       36.0|       460.0|     569.0|                    145.0|\n",
            "|         1|          3|         10|30.497478000000005|-87.880258|            5.3|            5.3|             0|22.0|2017|                  1.0|                     1.0|           304.0|                     0.0|         1.0|                815.0|             822.0|       36.0|       460.0|     569.0|                    145.0|\n",
            "|         1|          3|         10|30.497478000000005|-87.880258|            5.3|            5.3|             0|22.0|2017|                  1.0|                     3.0|           304.0|                     0.0|         1.0|                815.0|             822.0|       36.0|       460.0|     569.0|                    145.0|\n",
            "|         1|          3|         10|30.497478000000005|-87.880258|            4.5|            4.5|             0|19.0|2017|                  1.0|                     0.0|           331.0|                     0.0|         1.0|                815.0|             822.0|       36.0|       460.0|     569.0|                    145.0|\n",
            "|         1|          3|         10|30.497478000000005|-87.880258|            4.5|            4.5|             0|19.0|2017|                  1.0|                     2.0|           331.0|                     0.0|         1.0|                815.0|             822.0|       36.0|       460.0|     569.0|                    145.0|\n",
            "|         1|          3|         10|30.497478000000005|-87.880258|            4.5|            4.5|             0|19.0|2017|                  1.0|                     1.0|           331.0|                     0.0|         1.0|                815.0|             822.0|       36.0|       460.0|     569.0|                    145.0|\n",
            "|         1|          3|         10|30.497478000000005|-87.880258|            4.5|            4.5|             0|19.0|2017|                  1.0|                     3.0|           331.0|                     0.0|         1.0|                815.0|             822.0|       36.0|       460.0|     569.0|                    145.0|\n",
            "|         1|          3|         10|30.497478000000005|-87.880258|            7.2|            7.2|             0|30.0|2017|                  1.0|                     0.0|           136.0|                     0.0|         1.0|                815.0|             822.0|       36.0|       460.0|     569.0|                    145.0|\n",
            "|         1|          3|         10|30.497478000000005|-87.880258|            7.2|            7.2|             0|30.0|2017|                  1.0|                     2.0|           136.0|                     0.0|         1.0|                815.0|             822.0|       36.0|       460.0|     569.0|                    145.0|\n",
            "|         1|          3|         10|30.497478000000005|-87.880258|            7.2|            7.2|             0|30.0|2017|                  1.0|                     1.0|           136.0|                     0.0|         1.0|                815.0|             822.0|       36.0|       460.0|     569.0|                    145.0|\n",
            "|         1|          3|         10|30.497478000000005|-87.880258|            7.2|            7.2|             0|30.0|2017|                  1.0|                     3.0|           136.0|                     0.0|         1.0|                815.0|             822.0|       36.0|       460.0|     569.0|                    145.0|\n",
            "|         1|          3|         10|30.497478000000005|-87.880258|            3.9|            3.9|             0|16.0|2017|                  1.0|                     0.0|           301.0|                     0.0|         1.0|                815.0|             822.0|       36.0|       460.0|     569.0|                    145.0|\n",
            "|         1|          3|         10|30.497478000000005|-87.880258|            3.9|            3.9|             0|16.0|2017|                  1.0|                     2.0|           301.0|                     0.0|         1.0|                815.0|             822.0|       36.0|       460.0|     569.0|                    145.0|\n",
            "|         1|          3|         10|30.497478000000005|-87.880258|            3.9|            3.9|             0|16.0|2017|                  1.0|                     1.0|           301.0|                     0.0|         1.0|                815.0|             822.0|       36.0|       460.0|     569.0|                    145.0|\n",
            "|         1|          3|         10|30.497478000000005|-87.880258|            3.9|            3.9|             0|16.0|2017|                  1.0|                     3.0|           301.0|                     0.0|         1.0|                815.0|             822.0|       36.0|       460.0|     569.0|                    145.0|\n",
            "+----------+-----------+-----------+------------------+----------+---------------+---------------+--------------+----+----+---------------------+------------------------+----------------+------------------------+------------+---------------------+------------------+-----------+------------+----------+-------------------------+\n",
            "only showing top 20 rows\n",
            "\n"
          ]
        }
      ]
    },
    {
      "cell_type": "markdown",
      "source": [
        "#Model"
      ],
      "metadata": {
        "id": "T6iXJiivGPoq"
      }
    },
    {
      "cell_type": "markdown",
      "source": [
        "**The first thing we have to do is determinate the dependant and the independant variables.**\n",
        "\n",
        "**The independant variables in this Regression Model will be store them in a list of features, called \"Independent Features\"**"
      ],
      "metadata": {
        "id": "1J00qiVlGrPl"
      }
    },
    {
      "cell_type": "code",
      "source": [
        "#Defining independant variables\n",
        "featassembler = VectorAssembler(inputCols=['state_code',\n",
        " 'county_code',\n",
        " 'latitude',\n",
        " 'longitude',\n",
        " 'site_number',\n",
        " 'arithmetic_mean',\n",
        " 'first_max_value',\n",
        " 'first_max_hour',\n",
        " 'year',\n",
        " 'sample_duration_index',\n",
        " 'sample_duration_index',\n",
        " 'pollutant_standard_index',\n",
        " 'date_local_index',\n",
        " 'validity_indicator_index',\n",
        " 'method_index',\n",
        " 'site_address_index',\n",
        " 'state_index',\n",
        " 'county_index',\n",
        " 'city_index',\n",
        " 'date_of_last_change_index'\n",
        " ], outputCol = \"IndependentFeatures\" )\n",
        "featassembler"
      ],
      "metadata": {
        "id": "d5QisBNc71_d",
        "colab": {
          "base_uri": "https://localhost:8080/"
        },
        "outputId": "dcf6e8e3-b89e-4d86-8a62-55c0a0c73b4e"
      },
      "execution_count": 89,
      "outputs": [
        {
          "output_type": "execute_result",
          "data": {
            "text/plain": [
              "VectorAssembler_212090663f4c"
            ]
          },
          "metadata": {},
          "execution_count": 89
        }
      ]
    },
    {
      "cell_type": "markdown",
      "source": [
        "**Now we are going to make this VectorAssembler part of our dataframe, so we have all independant variables stored in a single column**"
      ],
      "metadata": {
        "id": "nWvgTh53HQLH"
      }
    },
    {
      "cell_type": "code",
      "source": [
        "#Add independant variables as a new column \n",
        "result = featassembler.transform(df)\n",
        "result.show()"
      ],
      "metadata": {
        "id": "OsJG8w9Z8YgL",
        "colab": {
          "base_uri": "https://localhost:8080/"
        },
        "outputId": "f4fb146c-bc02-40da-8112-9a80072192ee"
      },
      "execution_count": 90,
      "outputs": [
        {
          "output_type": "stream",
          "name": "stdout",
          "text": [
            "+----------+-----------+-----------+------------------+----------+---------------+---------------+--------------+----+----+---------------------+------------------------+----------------+------------------------+------------+---------------------+------------------+-----------+------------+----------+-------------------------+--------------------+\n",
            "|state_code|county_code|site_number|          latitude| longitude|arithmetic_mean|first_max_value|first_max_hour| aqi|year|sample_duration_index|pollutant_standard_index|date_local_index|validity_indicator_index|method_index|local_site_name_index|site_address_index|state_index|county_index|city_index|date_of_last_change_index| IndependentFeatures|\n",
            "+----------+-----------+-----------+------------------+----------+---------------+---------------+--------------+----+----+---------------------+------------------------+----------------+------------------------+------------+---------------------+------------------+-----------+------------+----------+-------------------------+--------------------+\n",
            "|         1|          3|         10|30.497478000000005|-87.880258|            5.0|            5.0|             0|21.0|2017|                  1.0|                     0.0|           121.0|                     0.0|         1.0|                815.0|             822.0|       36.0|       460.0|     569.0|                    145.0|[1.0,3.0,30.49747...|\n",
            "|         1|          3|         10|30.497478000000005|-87.880258|            5.0|            5.0|             0|21.0|2017|                  1.0|                     2.0|           121.0|                     0.0|         1.0|                815.0|             822.0|       36.0|       460.0|     569.0|                    145.0|[1.0,3.0,30.49747...|\n",
            "|         1|          3|         10|30.497478000000005|-87.880258|            5.0|            5.0|             0|21.0|2017|                  1.0|                     1.0|           121.0|                     0.0|         1.0|                815.0|             822.0|       36.0|       460.0|     569.0|                    145.0|[1.0,3.0,30.49747...|\n",
            "|         1|          3|         10|30.497478000000005|-87.880258|            5.0|            5.0|             0|21.0|2017|                  1.0|                     3.0|           121.0|                     0.0|         1.0|                815.0|             822.0|       36.0|       460.0|     569.0|                    145.0|[1.0,3.0,30.49747...|\n",
            "|         1|          3|         10|30.497478000000005|-87.880258|            5.3|            5.3|             0|22.0|2017|                  1.0|                     0.0|           304.0|                     0.0|         1.0|                815.0|             822.0|       36.0|       460.0|     569.0|                    145.0|[1.0,3.0,30.49747...|\n",
            "|         1|          3|         10|30.497478000000005|-87.880258|            5.3|            5.3|             0|22.0|2017|                  1.0|                     2.0|           304.0|                     0.0|         1.0|                815.0|             822.0|       36.0|       460.0|     569.0|                    145.0|[1.0,3.0,30.49747...|\n",
            "|         1|          3|         10|30.497478000000005|-87.880258|            5.3|            5.3|             0|22.0|2017|                  1.0|                     1.0|           304.0|                     0.0|         1.0|                815.0|             822.0|       36.0|       460.0|     569.0|                    145.0|[1.0,3.0,30.49747...|\n",
            "|         1|          3|         10|30.497478000000005|-87.880258|            5.3|            5.3|             0|22.0|2017|                  1.0|                     3.0|           304.0|                     0.0|         1.0|                815.0|             822.0|       36.0|       460.0|     569.0|                    145.0|[1.0,3.0,30.49747...|\n",
            "|         1|          3|         10|30.497478000000005|-87.880258|            4.5|            4.5|             0|19.0|2017|                  1.0|                     0.0|           331.0|                     0.0|         1.0|                815.0|             822.0|       36.0|       460.0|     569.0|                    145.0|[1.0,3.0,30.49747...|\n",
            "|         1|          3|         10|30.497478000000005|-87.880258|            4.5|            4.5|             0|19.0|2017|                  1.0|                     2.0|           331.0|                     0.0|         1.0|                815.0|             822.0|       36.0|       460.0|     569.0|                    145.0|[1.0,3.0,30.49747...|\n",
            "|         1|          3|         10|30.497478000000005|-87.880258|            4.5|            4.5|             0|19.0|2017|                  1.0|                     1.0|           331.0|                     0.0|         1.0|                815.0|             822.0|       36.0|       460.0|     569.0|                    145.0|[1.0,3.0,30.49747...|\n",
            "|         1|          3|         10|30.497478000000005|-87.880258|            4.5|            4.5|             0|19.0|2017|                  1.0|                     3.0|           331.0|                     0.0|         1.0|                815.0|             822.0|       36.0|       460.0|     569.0|                    145.0|[1.0,3.0,30.49747...|\n",
            "|         1|          3|         10|30.497478000000005|-87.880258|            7.2|            7.2|             0|30.0|2017|                  1.0|                     0.0|           136.0|                     0.0|         1.0|                815.0|             822.0|       36.0|       460.0|     569.0|                    145.0|[1.0,3.0,30.49747...|\n",
            "|         1|          3|         10|30.497478000000005|-87.880258|            7.2|            7.2|             0|30.0|2017|                  1.0|                     2.0|           136.0|                     0.0|         1.0|                815.0|             822.0|       36.0|       460.0|     569.0|                    145.0|[1.0,3.0,30.49747...|\n",
            "|         1|          3|         10|30.497478000000005|-87.880258|            7.2|            7.2|             0|30.0|2017|                  1.0|                     1.0|           136.0|                     0.0|         1.0|                815.0|             822.0|       36.0|       460.0|     569.0|                    145.0|[1.0,3.0,30.49747...|\n",
            "|         1|          3|         10|30.497478000000005|-87.880258|            7.2|            7.2|             0|30.0|2017|                  1.0|                     3.0|           136.0|                     0.0|         1.0|                815.0|             822.0|       36.0|       460.0|     569.0|                    145.0|[1.0,3.0,30.49747...|\n",
            "|         1|          3|         10|30.497478000000005|-87.880258|            3.9|            3.9|             0|16.0|2017|                  1.0|                     0.0|           301.0|                     0.0|         1.0|                815.0|             822.0|       36.0|       460.0|     569.0|                    145.0|[1.0,3.0,30.49747...|\n",
            "|         1|          3|         10|30.497478000000005|-87.880258|            3.9|            3.9|             0|16.0|2017|                  1.0|                     2.0|           301.0|                     0.0|         1.0|                815.0|             822.0|       36.0|       460.0|     569.0|                    145.0|[1.0,3.0,30.49747...|\n",
            "|         1|          3|         10|30.497478000000005|-87.880258|            3.9|            3.9|             0|16.0|2017|                  1.0|                     1.0|           301.0|                     0.0|         1.0|                815.0|             822.0|       36.0|       460.0|     569.0|                    145.0|[1.0,3.0,30.49747...|\n",
            "|         1|          3|         10|30.497478000000005|-87.880258|            3.9|            3.9|             0|16.0|2017|                  1.0|                     3.0|           301.0|                     0.0|         1.0|                815.0|             822.0|       36.0|       460.0|     569.0|                    145.0|[1.0,3.0,30.49747...|\n",
            "+----------+-----------+-----------+------------------+----------+---------------+---------------+--------------+----+----+---------------------+------------------------+----------------+------------------------+------------+---------------------+------------------+-----------+------------+----------+-------------------------+--------------------+\n",
            "only showing top 20 rows\n",
            "\n"
          ]
        }
      ]
    },
    {
      "cell_type": "markdown",
      "source": [
        "**Now we make a new dataframe that includes this features column and the independant varible**"
      ],
      "metadata": {
        "id": "sSE_vS9JHhAA"
      }
    },
    {
      "cell_type": "code",
      "source": [
        "#Creating new dataframe only with the Independant features and the Air Quality values\n",
        "final_data = result.select(\"IndependentFeatures\", \"aqi\")\n",
        "final_data.show()"
      ],
      "metadata": {
        "id": "Ls0zB7w_EU5G",
        "colab": {
          "base_uri": "https://localhost:8080/"
        },
        "outputId": "cb1fc38a-2e39-49f4-a28b-9c44eca5bb8a"
      },
      "execution_count": 91,
      "outputs": [
        {
          "output_type": "stream",
          "name": "stdout",
          "text": [
            "+--------------------+----+\n",
            "| IndependentFeatures| aqi|\n",
            "+--------------------+----+\n",
            "|[1.0,3.0,30.49747...|21.0|\n",
            "|[1.0,3.0,30.49747...|21.0|\n",
            "|[1.0,3.0,30.49747...|21.0|\n",
            "|[1.0,3.0,30.49747...|21.0|\n",
            "|[1.0,3.0,30.49747...|22.0|\n",
            "|[1.0,3.0,30.49747...|22.0|\n",
            "|[1.0,3.0,30.49747...|22.0|\n",
            "|[1.0,3.0,30.49747...|22.0|\n",
            "|[1.0,3.0,30.49747...|19.0|\n",
            "|[1.0,3.0,30.49747...|19.0|\n",
            "|[1.0,3.0,30.49747...|19.0|\n",
            "|[1.0,3.0,30.49747...|19.0|\n",
            "|[1.0,3.0,30.49747...|30.0|\n",
            "|[1.0,3.0,30.49747...|30.0|\n",
            "|[1.0,3.0,30.49747...|30.0|\n",
            "|[1.0,3.0,30.49747...|30.0|\n",
            "|[1.0,3.0,30.49747...|16.0|\n",
            "|[1.0,3.0,30.49747...|16.0|\n",
            "|[1.0,3.0,30.49747...|16.0|\n",
            "|[1.0,3.0,30.49747...|16.0|\n",
            "+--------------------+----+\n",
            "only showing top 20 rows\n",
            "\n"
          ]
        }
      ]
    },
    {
      "cell_type": "markdown",
      "source": [
        "#Cross Validation"
      ],
      "metadata": {
        "id": "1uxwKyIOFWr6"
      }
    },
    {
      "cell_type": "markdown",
      "source": [
        "**K-Folds technique ensures that every observation from the original dataset has the chance of appearing in training and test set. This is one among the best approach if we have a limited input data. Even though we have a pretty big dataset we might be missing information if we do not do a K-Folds cross validation.**\n",
        "\n",
        "1. **Split the entire data randomly into K folds. I decided to split it into 8 folds, as the data has a big amount of values(over 4 millions). The higher value of K leads to less biased model.**\n",
        "2. **Then fit the model using the K-1 (K minus 1) folds and validate the model using the remaining Kth fold.**\n",
        "3. **Repeat this process until every K-fold serve as the test set.**\n",
        "4. **Take the average of your recorded scores. That will be the performance metric for the model.**"
      ],
      "metadata": {
        "id": "lPXmG9pnbOgb"
      }
    },
    {
      "cell_type": "code",
      "source": [
        "from pyspark.ml.evaluation import RegressionEvaluator\n",
        "lr = LinearRegression(featuresCol = 'IndependentFeatures', labelCol='aqi')\n",
        "#Splitting data into 8 folds\n",
        "grid = ParamGridBuilder().addGrid(lr.maxIter, [1, 2, 3, 4, 5, 6, 7, 8]).build()\n",
        "evaluator =  RegressionEvaluator().setLabelCol(\"aqi\")"
      ],
      "metadata": {
        "id": "M2nrdp4dD_i5"
      },
      "execution_count": 92,
      "outputs": []
    },
    {
      "cell_type": "code",
      "source": [
        "#fitting the model variating into the folds\n",
        "cv = CrossValidator(estimator=lr, estimatorParamMaps=grid, evaluator=evaluator , parallelism=5)\n",
        "cvModel = cv.fit(final_data)\n",
        "cvModel.getNumFolds()\n",
        "#getting performance metrics\n",
        "cvModel.avgMetrics"
      ],
      "metadata": {
        "id": "tp39kqYlxdob",
        "colab": {
          "base_uri": "https://localhost:8080/"
        },
        "outputId": "e4485758-b551-455e-b49f-027f9e27607d"
      },
      "execution_count": 93,
      "outputs": [
        {
          "output_type": "execute_result",
          "data": {
            "text/plain": [
              "[13.506563276163991,\n",
              " 8.481872240258163,\n",
              " 8.472418524001494,\n",
              " 8.468301807202312,\n",
              " 8.467952960018215,\n",
              " 8.467789347301027,\n",
              " 8.467779596956605]"
            ]
          },
          "metadata": {},
          "execution_count": 93
        }
      ]
    },
    {
      "cell_type": "markdown",
      "source": [
        "**We can observe that as the folds increases the model get better results. Therefore the 8th fold has the minor MSE in the model while the first fold has the highest MSE.**"
      ],
      "metadata": {
        "id": "tEcADMFAdIXp"
      }
    },
    {
      "cell_type": "markdown",
      "source": [
        "#Model implementation"
      ],
      "metadata": {
        "id": "Q01Yp40ba_zm"
      }
    },
    {
      "cell_type": "markdown",
      "source": [
        "**It is important to define the data that is going to be for training the model, and the data that is going to be for testing the model.**\n",
        "\n",
        "**This data splitting is used mainly to avoid overfitting. So we split the data into two sets, the train and the test dataset. For this model I decided to use 80% of the data to train the model, and the other 20% to test it.**"
      ],
      "metadata": {
        "id": "lXYtbrsiMIB6"
      }
    },
    {
      "cell_type": "code",
      "source": [
        "#Sppliting data into train and test with 80% of the total and 20% respectively \n",
        "train_data, test_data = final_data.randomSplit([0.80, 0.20])\n",
        "train_data"
      ],
      "metadata": {
        "id": "sDAW-rZ_EZ86",
        "colab": {
          "base_uri": "https://localhost:8080/"
        },
        "outputId": "4a9fede7-3e17-49bd-85cc-fccc83fe35ba"
      },
      "execution_count": 94,
      "outputs": [
        {
          "output_type": "execute_result",
          "data": {
            "text/plain": [
              "DataFrame[IndependentFeatures: vector, aqi: double]"
            ]
          },
          "metadata": {},
          "execution_count": 94
        }
      ]
    },
    {
      "cell_type": "markdown",
      "source": [
        "**Now it's time to fit the model. To do so, I used the Linear Regression Pyspark API that takes two atributtes, the \"featuresCol\", these are the independant variables, and the \"labelCol\" that is the dependant variable**\n",
        "\n",
        "**Then the Linear regression fit is done with the train data**"
      ],
      "metadata": {
        "id": "5K9YQJVMNRr9"
      }
    },
    {
      "cell_type": "code",
      "source": [
        "#Fitting the model given the independent features to predict Air Quality values\n",
        "model = LinearRegression(featuresCol = 'IndependentFeatures', labelCol='aqi')\n",
        "model = model.fit(train_data)"
      ],
      "metadata": {
        "id": "HD5yWBFFLGRu"
      },
      "execution_count": 95,
      "outputs": []
    },
    {
      "cell_type": "markdown",
      "source": [
        "**At this point we have a trained model, now is time to see how good is the model performing**"
      ],
      "metadata": {
        "id": "imVC7OA_NzyV"
      }
    },
    {
      "cell_type": "code",
      "source": [
        "#Getting model intercept \n",
        "model.intercept"
      ],
      "metadata": {
        "id": "X9R5QgP47bSt",
        "colab": {
          "base_uri": "https://localhost:8080/"
        },
        "outputId": "767ef27a-8690-4c43-e69b-d785319795d2"
      },
      "execution_count": 96,
      "outputs": [
        {
          "output_type": "execute_result",
          "data": {
            "text/plain": [
              "770.0217987355334"
            ]
          },
          "metadata": {},
          "execution_count": 96
        }
      ]
    },
    {
      "cell_type": "markdown",
      "source": [
        "**The intercept represents the mean value of the response variable when all of the predictor variables in the model are equal to zero. In this case we have an intercept of 770.0217**"
      ],
      "metadata": {
        "id": "TNX7yXafN9Pf"
      }
    },
    {
      "cell_type": "code",
      "source": [
        "#Getting model beta coefficients\n",
        "model.coefficients"
      ],
      "metadata": {
        "id": "7lemfdg99NPi",
        "colab": {
          "base_uri": "https://localhost:8080/"
        },
        "outputId": "8c0f126f-6da5-4338-ce27-f72601f9ce24"
      },
      "execution_count": 97,
      "outputs": [
        {
          "output_type": "execute_result",
          "data": {
            "text/plain": [
              "DenseVector([-0.0251, 0.0055, -0.11, 0.0485, -0.0001, 1.1022, 1.1022, -0.443, -0.3697, 0.3943, 0.3943, -0.0044, 0.0002, 0.0, 0.0596, -0.0006, -0.049, -0.0035, 0.0004, -0.0007])"
            ]
          },
          "metadata": {},
          "execution_count": 97
        }
      ]
    },
    {
      "cell_type": "markdown",
      "source": [
        "**Getting the beta coefficients allows comparisons between independent variables to determine which has the most influence on the dependent variable. In this case we can see that B5, B6, B7 have the biggest values, therefore are the ones that influence the model the most.**\n",
        "#Accuracy"
      ],
      "metadata": {
        "id": "cass2AzPOlgX"
      }
    },
    {
      "cell_type": "code",
      "source": [
        "#Getting R2 adjusted\n",
        "model.summary.r2adj"
      ],
      "metadata": {
        "id": "rbL3rpFYLPiN",
        "colab": {
          "base_uri": "https://localhost:8080/"
        },
        "outputId": "17f55d7c-9c45-4380-bfe5-c320077e5f50"
      },
      "execution_count": 98,
      "outputs": [
        {
          "output_type": "execute_result",
          "data": {
            "text/plain": [
              "0.806913001594376"
            ]
          },
          "metadata": {},
          "execution_count": 98
        }
      ]
    },
    {
      "cell_type": "markdown",
      "source": [
        "**The r2adj pyspark function, help us determinate the accuracy of the model. In this case we have an accuracy of 80% which is a pretty good percentage**\n",
        "#Predictions"
      ],
      "metadata": {
        "id": "x8HUZKDoOmF-"
      }
    },
    {
      "cell_type": "markdown",
      "source": [
        "**We have a very good model, but now is time to test it with the test dataset, to see if it is not overfitted. To do so, we will use the model.evaluate Pyspark function to make some Air Quality predictions**"
      ],
      "metadata": {
        "id": "EWHPAWEwPlTH"
      }
    },
    {
      "cell_type": "code",
      "source": [
        "#Adding a new column to the dataset to visualize predictions\n",
        "prediction_result = model.evaluate(test_data)\n",
        "prediction_result.predictions.show()"
      ],
      "metadata": {
        "id": "9hfBe_OULWiC",
        "colab": {
          "base_uri": "https://localhost:8080/"
        },
        "outputId": "fae5bf71-e52f-4165-fdb0-15a12cd61646"
      },
      "execution_count": 99,
      "outputs": [
        {
          "output_type": "stream",
          "name": "stdout",
          "text": [
            "+--------------------+---+--------------------+\n",
            "| IndependentFeatures|aqi|          prediction|\n",
            "+--------------------+---+--------------------+\n",
            "|(20,[0,1,2,3,4,5,...|0.0|-0.01134875964271...|\n",
            "|(20,[0,1,2,3,4,5,...|0.0|   2.171127032137065|\n",
            "|(20,[0,1,2,3,4,5,...|0.0|   3.800377730454784|\n",
            "|(20,[0,1,2,3,4,5,...|0.0|  4.1765030567499934|\n",
            "|(20,[0,1,2,3,4,5,...|0.0|   5.114180241561826|\n",
            "|(20,[0,1,2,3,4,5,...|0.0|   5.500163366686593|\n",
            "|(20,[0,1,2,3,4,5,...|0.0|  6.2568316572095455|\n",
            "|(20,[0,1,2,3,4,5,...|0.0|   6.469623454621569|\n",
            "|(20,[0,1,2,3,4,5,...|0.0|   6.829432424233232|\n",
            "|(20,[0,1,2,3,4,5,...|0.0|    9.99717477448496|\n",
            "|(20,[0,1,2,3,4,5,...|0.0|  11.912301638860527|\n",
            "|(20,[0,1,2,3,4,5,...|1.0|  12.592827619195305|\n",
            "|(20,[0,1,2,3,4,5,...|3.0|  13.405073499671175|\n",
            "|(20,[0,1,2,3,4,5,...|3.0|  13.668853911718884|\n",
            "|(20,[0,1,2,3,4,5,...|3.0|  13.697407535914863|\n",
            "|(20,[0,1,2,3,4,5,...|3.0|  13.905610358009653|\n",
            "|(20,[0,1,2,3,4,5,...|4.0|  14.338842245029014|\n",
            "|(20,[0,1,2,3,4,5,...|4.0|   14.34241144805344|\n",
            "|(20,[0,1,2,3,4,5,...|5.0|  14.715306807753677|\n",
            "|(20,[0,1,2,3,4,5,...|5.0|  14.718196162583013|\n",
            "+--------------------+---+--------------------+\n",
            "only showing top 20 rows\n",
            "\n"
          ]
        }
      ]
    },
    {
      "cell_type": "markdown",
      "source": [
        "**We can see we have a big difference between the predictions and the actual Air Quality values, but we are just seeing 20 rows out of the over 5 million rows dataset. So, to get more accurate statistics we will get the error gap of the whole dataset**"
      ],
      "metadata": {
        "id": "EJ0xGfz2P_Gl"
      }
    },
    {
      "cell_type": "code",
      "source": [
        "#Getting model errors\n",
        "prediction_result.meanAbsoluteError, prediction_result.meanSquaredError"
      ],
      "metadata": {
        "id": "WAPniRYsLiQJ",
        "colab": {
          "base_uri": "https://localhost:8080/"
        },
        "outputId": "fa8bcb47-b1f3-46ba-f9a1-c621f255501f"
      },
      "execution_count": 100,
      "outputs": [
        {
          "output_type": "execute_result",
          "data": {
            "text/plain": [
              "(5.587033540202358, 66.38919747082657)"
            ]
          },
          "metadata": {},
          "execution_count": 100
        }
      ]
    },
    {
      "cell_type": "markdown",
      "source": [
        "**According to Nate Watson(2018) \"The absolute error is the absolute value of the difference between the forecasted value and the actual value. MAE tells us how big of an error we can expect from the forecast on average.\" This tells us that the average difference between the Air Quality data value and the value predicted by the model is 5.58 which is a very small error. So our model is performing so well.**"
      ],
      "metadata": {
        "id": "0JiLLpN9OoiF"
      }
    }
  ]
}